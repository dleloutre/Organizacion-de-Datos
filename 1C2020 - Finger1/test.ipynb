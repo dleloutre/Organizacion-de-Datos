{ "cells": [ { "cell_type": "code", "execution_count": 1, "metadata": {}, "outputs": [], "source": [ "import pandas as pd\n", "import seaborn as sns\n", "import matplotlib.pylab as plt\n", "import matplotlib.patches as
mpatches\n", "import numpy as np" ] }, { "cell_type": "code", "execution_count": 2, "metadata": {}, "outputs": [ { "data": { "text/html": [ "
\n", "\n", "\n", " \n", " \n", " \n", " \n", " \n", " \n", " \n", " \n", " \n", " \n", " \n", " \n", " \n", " \n", " \n", " \n", " \n", " \n", " \n", " \n", " \n", " \n", " \n", " \n", " \n", " \n", " \n", " \n", " \n", " \n", " \n", " \n", " \n", " \n", "
\n", " \n", " \n", " \n", " \n", " \n", " \n", " \n", " \n", " \n", " \n", " \n", " \n", " \n", " \n", " \n", " \n", " \n", " \n", " \n", " \n", " \n", " \n", " \n", " \n", " \n", " \n", " \n", " \n", " \n", " \n", " \n", " \n", " \n", " \n", " \n", " \n", "
\n", " \n", " \n", " \n", " \n", " \n", " \n", " \n", " \n", " \n", " \n", " \n", " \n", " \n", " \n", " \n", " \n", " \n", " \n", " \n", " \n", " \n", " \n", " \n", " \n", " \n", " \n", " \n", " \n", "
id keyword location text target
0 1 NaN NaN Our Deeds are the Reason of this #earthquake M... 1
1 4 NaN NaN Forest fire near La Ronge Sask. Canada 1
2 5 NaN NaN All residents asked to 'shelter in place' are ... 1
3 6 NaN NaN 13,000 people receive #wildfires evacuation or... 1
4 7 NaN NaN Just got sent this photo from Ruby #Alaska as ... 1
... ... ... ... ... ...
7608 10869 NaN NaN Two giant cranes holding a bridge collapse int... 1
7609 10870 NaN NaN @aria_ahrary @TheTawniest The out of control w... 1
7610 10871 NaN NaN M1.94 [01:04 UTC]?5km S of Volcano Hawaii. htt... 1
7611 10872 NaN NaN Police investigating after an e-bike collided ... 1
7612 10873 NaN NaN The Latest: More Homes Razed by Northern Calif... 1
\n", "
7613 rows × 5 columns
\n", "
" ], "text/plain": [ " id keyword location \\\n", "0 1 NaN NaN \n", "1 4 NaN NaN \n", "2 5 NaN NaN \n", "3 6 NaN NaN \n", "4 7 NaN NaN \n", "... ... ... ... \n", "7608 10869 NaN NaN \n", "7609 10870 NaN NaN \n",
"7610 10871 NaN NaN \n", "7611 10872 NaN NaN \n", "7612 10873 NaN NaN \n", "\n", " text target \n", "0 Our Deeds are the Reason of this #earthquake M... 1 \n", "1 Forest fire near La Ronge Sask. Canada 1 \n", "2
All residents asked to 'shelter in place' are ... 1 \n", "3 13,000 people receive #wildfires evacuation or... 1 \n", "4 Just got sent this photo from Ruby #Alaska as ... 1 \n", "... ... ... \n", "7608 Two giant cranes holding a bridge
collapse int... 1 \n", "7609 @aria_ahrary @TheTawniest The out of control w... 1 \n", "7610 M1.94 [01:04 UTC]?5km S of Volcano Hawaii. htt... 1 \n", "7611 Police investigating after an e-bike collided ... 1 \n", "7612
The Latest: More Homes Razed by Northern Calif... 1 \n", "\n", "[7613 rows x 5 columns]" ] }, "execution_count": 2, "metadata": {}, "output_type": "execute_result" } ], "source": [ "df = pd.read_csv(\"train.csv\")\n", "df"
] }, { "cell_type": "code", "execution_count": 3, "metadata": {}, "outputs": [ { "data": { "text/html": [ "
\n", "\n", "\n", " \n", " \n", " \n", " \n", " \n", " \n", " \n", " \n", " \n", " \n", " \n", " \n", " \n", " \n", " \n", " \n", " \n", " \n", " \n", " \n", " \n", " \n", " \n", " \n", " \n", " \n", " \n", " \n", " \n", " \n", " \n", " \n", " \n", " \n", "
\n", " \n", " \n", " \n", " \n", " \n", " \n", " \n", " \n", " \n", " \n", " \n", " \n", " \n", " \n", " \n", " \n", " \n", " \n", " \n", " \n", " \n", " \n", " \n", " \n", " \n", " \n", " \n", " \n", " \n", " \n", " \n", " \n", " \n", " \n", " \n", " \n", "
\n", " \n", " \n", " \n", " \n", "
id text target
0 1 Our Deeds are the Reason of this #earthquake M... 1
1 4 Forest fire near La Ronge Sask. Canada 1
2 5 All residents asked to 'shelter in place' are ... 1
3 6 13,000 people receive #wildfires evacuation or... 1
4 7 Just got sent this photo from Ruby #Alaska as ... 1
... ... ... ...
7608 10869 Two giant cranes holding a bridge collapse int... 1
7609 10870 @aria_ahrary @TheTawniest The out of control w... 1
7610 10871 M1.94 [01:04 UTC]?5km S of Volcano Hawaii. htt... 1
7611 10872 Police investigating after an e-bike collided ... 1
7612 10873 The Latest: More Homes Razed by Northern Calif... 1
\n", "
7613 rows × 3 columns
\n", "
" ], "text/plain": [ " id text target\n", "0 1 Our Deeds are the Reason of this #earthquake M... 1\n", "1 4 Forest fire near La Ronge Sask. Canada 1\n", "2 5 All residents asked to 'shelter in place' are ... 1\n", "3 6 13,000
people receive #wildfires evacuation or... 1\n", "4 7 Just got sent this photo from Ruby #Alaska as ... 1\n", "... ... ... ...\n", "7608 10869 Two giant cranes holding a bridge collapse int... 1\n", "7609 10870 @aria_ahrary
@TheTawniest The out of control w... 1\n", "7610 10871 M1.94 [01:04 UTC]?5km S of Volcano Hawaii. htt... 1\n", "7611 10872 Police investigating after an e-bike collided ... 1\n", "7612 10873 The Latest: More Homes
Razed by Northern Calif... 1\n", "\n", "[7613 rows x 3 columns]" ] }, "execution_count": 3, "metadata": {}, "output_type": "execute_result" } ], "source": [ "#me quedo con las columnas que me interesan para el
análisis\n", "df = df.loc[:,['id', 'text', 'target']]\n", "df" ] }, { "cell_type": "code", "execution_count": 4, "metadata": {}, "outputs": [ { "data": { "text/html": [ "
\n", "\n", "\n", " \n", " \n", " \n", " \n", " \n", " \n", " \n", " \n", " \n", " \n", " \n", " \n", " \n", " \n", " \n", " \n", " \n", " \n", " \n", " \n", " \n", " \n", " \n", " \n", " \n", " \n", " \n", " \n", " \n", " \n", " \n", " \n", " \n", " \n", "
\n", " \n", " \n", " \n", " \n", " \n", " \n", " \n", " \n", " \n", " \n", " \n", " \n", " \n", " \n", " \n", " \n", " \n", " \n", " \n", " \n", " \n", " \n", " \n", " \n", " \n", " \n", " \n", " \n", " \n", " \n", " \n", " \n", " \n", " \n", " \n", " \n", "
\n", " \n", " \n", " \n", " \n", " \n", " \n", " \n", " \n", " \n", " \n", " \n", " \n", " \n", " \n", " \n", " \n", "
id text target length
0 1 Our Deeds are the Reason of this #earthquake M... 1 69
1 4 Forest fire near La Ronge Sask. Canada 1 38
2 5 All residents asked to 'shelter in place' are ... 1 133
3 6 13,000 people receive #wildfires evacuation or... 1 65
4 7 Just got sent this photo from Ruby #Alaska as ... 1 88
... ... ... ... ...
7608 10869 Two giant cranes holding a bridge collapse int... 1 83
7609 10870 @aria_ahrary @TheTawniest The out of control w... 1 125
7610 10871 M1.94 [01:04 UTC]?5km S of Volcano Hawaii. htt... 1 65
7611 10872 Police investigating after an e-bike collided ... 1 137
7612 10873 The Latest: More Homes Razed by Northern Calif... 1 94
\n", "
7613 rows × 4 columns
\n", "
" ], "text/plain": [ " id text target length\n", "0 1 Our Deeds are the Reason of this #earthquake M... 1 69\n", "1 4 Forest fire near La Ronge Sask. Canada 1 38\n", "2 5 All residents asked to 'shelter in place' are ... 1 133\n",
"3 6 13,000 people receive #wildfires evacuation or... 1 65\n", "4 7 Just got sent this photo from Ruby #Alaska as ... 1 88\n", "... ... ... ... ...\n", "7608 10869 Two giant cranes holding a bridge collapse int... 1 83\n", "7609
10870 @aria_ahrary @TheTawniest The out of control w... 1 125\n", "7610 10871 M1.94 [01:04 UTC]?5km S of Volcano Hawaii. htt... 1 65\n", "7611 10872 Police investigating after an e-bike collided ... 1 137\n",
"7612 10873 The Latest: More Homes Razed by Northern Calif... 1 94\n", "\n", "[7613 rows x 4 columns]" ] }, "execution_count": 4, "metadata": {}, "output_type": "execute_result" } ], "source": [ "df['length'] =
df.loc[:,'text'].str.len()\n", "df" ] }, { "cell_type": "code", "execution_count": 5, "metadata": {}, "outputs": [ { "data": { "text/plain": [ "id False\n", "text False\n", "target False\n", "length False\n", "dtype: bool" ] },
"execution_count": 5, "metadata": {}, "output_type": "execute_result" } ], "source": [ "#chequeo que no falten datos\n", "df.isnull().any()" ] }, { "cell_type": "code", "execution_count": 6, "metadata": {}, "outputs": [ {
"data": { "text/plain": [ "count 7613.000000\n", "mean 101.037436\n", "std 33.781325\n", "min 7.000000\n", "25% 78.000000\n", "50% 107.000000\n", "75% 133.000000\n", "max 157.000000\n", "Name: length, dtype:
float64" ] }, "execution_count": 6, "metadata": {}, "output_type": "execute_result" } ], "source": [ "df['length'].describe()" ] }, { "cell_type": "code", "execution_count": 7, "metadata": {}, "outputs": [ { "data": {
"text/html": [ "
\n", "\n", "\n", " \n", " \n", " \n", " \n", " \n", " \n", " \n", " \n", " \n", " \n", " \n", " \n", " \n", " \n", " \n", " \n", " \n", " \n", " \n", " \n", " \n", " \n", " \n", " \n", " \n", " \n", " \n", " \n", " \n", " \n", " \n", " \n", " \n", " \n", "
\n", " \n", " \n", " \n", " \n", " \n", " \n", " \n", " \n", " \n", " \n", " \n", " \n", " \n", " \n", " \n", " \n", " \n", " \n", " \n", " \n", " \n", " \n", " \n", " \n", " \n", " \n", " \n", " \n", " \n", " \n", " \n", " \n", " \n", " \n", " \n", " \n", "
\n", " \n", " \n", " \n", " \n", " \n", " \n", " \n", " \n", " \n", " \n", " \n", " \n", " \n", " \n", " \n", " \n", "
id text target length
0 1 Our Deeds are the Reason of this #earthquake M... True 69
1 4 Forest fire near La Ronge Sask. Canada True 38
2 5 All residents asked to 'shelter in place' are ... True 133
3 6 13,000 people receive #wildfires evacuation or... True 65
4 7 Just got sent this photo from Ruby #Alaska as ... True 88
... ... ... ... ...
7608 10869 Two giant cranes holding a bridge collapse int... True 83
7609 10870 @aria_ahrary @TheTawniest The out of control w... True 125
7610 10871 M1.94 [01:04 UTC]?5km S of Volcano Hawaii. htt... True 65
7611 10872 Police investigating after an e-bike collided ... True 137
7612 10873 The Latest: More Homes Razed by Northern Calif... True 94
\n", "
7613 rows × 4 columns
\n", "
" ], "text/plain": [ " id text target length\n", "0 1 Our Deeds are the Reason of this #earthquake M... True 69\n", "1 4 Forest fire near La Ronge Sask. Canada True 38\n", "2 5 All residents asked to 'shelter in place' are ...
True 133\n", "3 6 13,000 people receive #wildfires evacuation or... True 65\n", "4 7 Just got sent this photo from Ruby #Alaska as ... True 88\n", "... ... ... ... ...\n", "7608 10869 Two giant cranes holding a bridge collapse
int... True 83\n", "7609 10870 @aria_ahrary @TheTawniest The out of control w... True 125\n", "7610 10871 M1.94 [01:04 UTC]?5km S of Volcano Hawaii. htt... True 65\n", "7611 10872 Police investigating after an ebike collided ... True 137\n", "7612 10873 The Latest: More Homes Razed by Northern Calif... True 94\n", "\n", "[7613 rows x 4 columns]" ] }, "execution_count": 7, "metadata": {}, "output_type": "execute_result" } ],
"source": [ "df['target'] = df['target'].astype('bool')\n", "df" ] }, { "cell_type": "code", "execution_count": 8, "metadata": {}, "outputs": [ { "data": { "text/plain": [ "count 3271.000000\n", "mean 108.113421\n", "std
29.309854\n", "min 14.000000\n", "25% 88.000000\n", "50% 115.000000\n", "75% 136.000000\n", "max 151.000000\n", "Name: length, dtype: float64" ] }, "execution_count": 8, "metadata": {}, "output_type":
"execute_result" } ], "source": [ "df[df.loc[:, 'target'] == True]['length'].describe()" ] }, { "cell_type": "code", "execution_count": 9, "metadata": {}, "outputs": [ { "data": { "text/plain": [ "count 4342.000000\n", "mean
95.706817\n", "std 35.885924\n", "min 7.000000\n", "25% 68.000000\n", "50% 101.000000\n", "75% 130.000000\n", "max 157.000000\n", "Name: length, dtype: float64" ] }, "execution_count": 9, "metadata": {},
"output_type": "execute_result" } ], "source": [ "df[df.loc[:, 'target'] == False]['length'].describe()" ] }, { "cell_type": "code", "execution_count": 10, "metadata": {}, "outputs": [], "source": [ "df_true = df[df['target'] ==
True]" ] }, { "cell_type": "code", "execution_count": 11, "metadata": {}, "outputs": [], "source": [ "df_false = df[df['target'] == False]" ] }, { "cell_type": "code", "execution_count": 12, "metadata": {}, "outputs": [ {
"name": "stdout", "output_type": "stream", "text": [ "108.11342097217977\n", "95.70681713496084\n" ] } ], "source": [ "print(df_true.length.mean())\n", "print(df_false.length.mean())" ] }, { "cell_type": "code",
"execution_count": 30, "metadata": {}, "outputs": [ { "data": { "text/html": [ "
\n", "\n", "\n", " \n", " \n", " \n", " \n", " \n", " \n", " \n", " \n", " \n", " \n", " \n", " \n", " \n", " \n", " \n", " \n", " \n", " \n", " \n", " \n", " \n", " \n", " \n", " \n", " \n", " \n", " \n", " \n", " \n", " \n", " \n", " \n", " \n", " \n", "
\n", " \n", " \n", " \n", " \n", " \n", " \n", " \n", " \n", " \n", " \n", " \n", " \n", " \n", " \n", " \n", " \n", " \n", " \n", " \n", " \n", " \n", " \n", " \n", " \n", " \n", " \n", " \n", " \n", " \n", " \n", " \n", " \n", " \n", " \n", " \n", " \n", "
\n", " \n", " \n", " \n", " \n", " \n", " \n", " \n", " \n", " \n", " \n", " \n", " \n", " \n", " \n", " \n", " \n", " \n", " \n", " \n", " \n", " \n", " \n", " \n", " \n", " \n", " \n", " \n", " \n", "
id text target length count
1882 2703 Crushed False 7 3
4890 6962 Bad day False 7 3
5115 7295 Err:509 False 7 3
24 36 LOOOOOOL False 8 4
30 44 The end! False 8 4
... ... ... ... ... ...
6945 9961 @helene_yancey GodsLove &amp; #thankU my siste... True 148 5
2718 3904 @UN No more #GujaratRiot &amp; #MumbaiRiot92-9... True 149 1
633 915 @HowardU If 90BLKs&amp;8WHTs colluded 2 take W... True 150 2
635 919 @cspanwj If 90BLKs&amp;8WHTs colluded 2 take W... True 150 2
614 885 @CAgov If 90BLKs&amp;8WHTs colluded 2 take WHT... True 151 1
\n", "
7613 rows × 5 columns
\n", "
" ], "text/plain": [ " id text target length \\\n", "1882 2703 Crushed False 7 \n", "4890 6962 Bad day False 7 \n", "5115 7295 Err:509 False 7 \n", "24 36 LOOOOOOL False 8 \n", "30 44 The end! False 8 \n", "... ... ... ... ...
\n", "6945 9961 @helene_yancey GodsLove & #thankU my siste... True 148 \n", "2718 3904 @UN No more #GujaratRiot & #MumbaiRiot92-9... True 149 \n", "633 915 @HowardU If 90BLKs&8WHTs colluded 2 take
W... True 150 \n", "635 919 @cspanwj If 90BLKs&8WHTs colluded 2 take W... True 150 \n", "614 885 @CAgov If 90BLKs&8WHTs colluded 2 take WHT... True 151 \n", "\n", " count \n", "1882 3 \n", "4890 3 \n",
"5115 3 \n", "24 4 \n", "30 4 \n", "... ... \n", "6945 5 \n", "2718 1 \n", "633 2 \n", "635 2 \n", "614 1 \n", "\n", "[7613 rows x 5 columns]" ] }, "execution_count": 30, "metadata": {}, "output_type": "execute_result" } ],
"source": [ "df['count'] = df.groupby('length').transform('count').text\n", "df" ] }, { "cell_type": "code", "execution_count": 28, "metadata": {}, "outputs": [ { "name": "stdout", "output_type": "stream", "text": [ "\n",
"Int64Index: 7613 entries, 1882 to 614\n", "Data columns (total 5 columns):\n", "id 7613 non-null int64\n", "text 7613 non-null object\n", "target 7613 non-null bool\n", "length 7613 non-null int64\n", "count 7613 nonnull int64\n", "dtypes: bool(1), int64(3), object(1)\n", "memory usage: 304.8+ KB\n" ] } ], "source": [ "df = df.sort_values(by=['target','length'])" ] }, { "cell_type": "code", "execution_count": 34, "metadata": {}, "outputs":
[], "source": [ "df_pyramid = df.loc[:,['count', 'target']]\n", "df_pyramid['length_period'] = pd.cut(df['length'], np.arange(0,180,20), right=True)\n", "df_pyramid =
df_pyramid.groupby(['length_period','target']).agg({'count':'count'}).reset_index()" ] }, { "cell_type": "code", "execution_count": 35, "metadata": {}, "outputs": [ { "data": { "text/html": [ "
\n", "\n", "\n", " \n", " \n", " \n", " \n", " \n", " \n", " \n", " \n", " \n", " \n", " \n", " \n", " \n", " \n", " \n", " \n", " \n", " \n", " \n", " \n", " \n", " \n", " \n", " \n", " \n", " \n", " \n", " \n", " \n", " \n", " \n", " \n", " \n", " \n", "
\n", " \n", " \n", " \n", " \n", " \n", " \n", " \n", " \n", " \n", " \n", " \n", " \n", " \n", " \n", " \n", " \n", " \n", " \n", " \n", " \n", " \n", " \n", " \n", " \n", " \n", " \n", " \n", " \n", " \n", " \n", " \n", " \n", " \n", " \n", " \n", " \n", "
\n", " \n", " \n", " \n", " \n", " \n", " \n", " \n", " \n", " \n", " \n", " \n", " \n", " \n", " \n", " \n", " \n", " \n", " \n", " \n", " \n", " \n", " \n", " \n", " \n", " \n", " \n", " \n", " \n", " \n", " \n", " \n", " \n", " \n", " \n", "
length_period target count
0 (0, 20] False 71
1 (0, 20] True -7
2 (20, 40] False 323
3 (20, 40] True -73
4 (40, 60] False 485
5 (40, 60] True -174
6 (60, 80] False 613
7 (60, 80] True -354
8 (80, 100] False 670
9 (80, 100] True -624
10 (100, 120] False 712
11 (100, 120] True -591
12 (120, 140] False 1359
13 (120, 140] True -1354
14 (140, 160] False 109
15 (140, 160] True -94
\n", "
" ], "text/plain": [ " length_period target count\n", "0 (0, 20] False 71\n", "1 (0, 20] True -7\n", "2 (20, 40] False 323\n", "3 (20, 40] True -73\n", "4 (40, 60] False 485\n", "5 (40, 60] True -174\n", "6 (60, 80] False 613\n",
"7 (60, 80] True -354\n", "8 (80, 100] False 670\n", "9 (80, 100] True -624\n", "10 (100, 120] False 712\n", "11 (100, 120] True -591\n", "12 (120, 140] False 1359\n", "13 (120, 140] True -1354\n", "14 (140, 160] False
109\n", "15 (140, 160] True -94" ] }, "execution_count": 35, "metadata": {}, "output_type": "execute_result" } ], "source": [ "df_pyramid.loc[df_pyramid['target'] == True,'count'] = -df_pyramid['count']\n", "df_pyramid" ]
}, { "cell_type": "code", "execution_count": 17, "metadata": {}, "outputs": [ { "data": { "image/png":
"iVBORw0KGgoAAAANSUhEUgAAA5EAAAKnCAYAAAAfhsm7AAAABHNCSVQICAgIfAhkiAAAAAlwSFlzAAAMTQAADE0B0s6tTgAAADh0RVh0U29mdHdhcmUAbWF0cGxvdGxpYiB2ZXJzaW9uMy4xLjEsIGh0dHA
"text/plain": [ "
" ] }, "metadata": { "needs_background": "light" }, "output_type": "display_data" } ], "source": [ "plt.figure(figsize=(13,10), dpi= 80)\n", "group_col = 'target'\n", "order_of_bars =
df_pyramid.length_period.unique()[::-1]\n", "\n", "sns.barplot(x='count', y='length_period', data=df_pyramid.loc[df_pyramid[group_col] == True, :], order=order_of_bars, color=\"lawngreen\",
label='Real')\n", "sns.barplot(x='count', y='length_period', data=df_pyramid.loc[df_pyramid[group_col] == False, :], order=order_of_bars, color=\"red\", label='Falso')\n", "\n", "plt.xlabel(\"Cantidad de
tweets\")\n", "plt.ylabel(\"Longitud de los tweets\")\n", "plt.yticks(fontsize=12)\n", "plt.title(\"Relación entre la longitud y la veracidad de los tweets\", fontsize=22)\n", "plt.legend()\n", "plt.show()" ] }, {
"cell_type": "code", "execution_count": null, "metadata": {}, "outputs": [], "source": [] } ], "metadata": { "kernelspec": { "display_name": "Python 3", "language": "python", "name": "python3" },
"language_info": { "codemirror_mode": { "name": "ipython", "version": 3 }, "file_extension": ".py", "mimetype": "text/x-python", "name": "python", "nbconvert_exporter": "python", "pygments_lexer":
"ipython3", "version": "3.7.4" } }, "nbformat": 4, "nbformat_minor": 2 }
