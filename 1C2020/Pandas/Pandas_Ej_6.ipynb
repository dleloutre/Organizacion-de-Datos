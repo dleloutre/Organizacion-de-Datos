{
 "cells": [
  {
   "cell_type": "code",
   "execution_count": 1,
   "metadata": {},
   "outputs": [],
   "source": [
    "import pandas as pd"
   ]
  },
  {
   "cell_type": "code",
   "execution_count": 2,
   "metadata": {},
   "outputs": [],
   "source": [
    "#El GCPD (Gotham City Police Dept) recolecta la información de casos policiales que\n",
    "#acontecen en Ciudad Gótica. Esta información se encuentra guardada en un dataframe con el\n",
    "#siguiente formato: (fecha, id_caso, descripcion, estado_caso, categoria, latitud, longitud). Los\n",
    "#posibles estados que puede tener un caso son 1: caso abierto, 2: caso resuelto, 3: cerrado sin\n",
    "#resolución. Las fechas se encuentran en el formato YYYY-MM-DD. Por otro lado el\n",
    "#comisionado Gordon guarda un registro detallado sobre en cuáles casos fue activada la\n",
    "#batiseñal para pedir ayuda del vigilante, Batman. Esta información se encuentra en un\n",
    "#Dataframe con el siguiente formato (id_caso, respuesta), siendo campo respuesta si la señal\n",
    "#tuvo una respuesta positiva (1) o negativa (0) de parte de él El sector encargado de las\n",
    "#estadísticas oficiales del GCPD quiere con esta información analizar las siguientes situaciones:"
   ]
  },
  {
   "cell_type": "code",
   "execution_count": 3,
   "metadata": {},
   "outputs": [],
   "source": [
    "#A. Tasa de resolución de casos de la fuerza policial por categoría de caso (considerando\n",
    "#aquellos casos en los que no participó Batman)"
   ]
  },
  {
   "cell_type": "code",
   "execution_count": 64,
   "metadata": {},
   "outputs": [
    {
     "data": {
      "text/html": [
       "<div>\n",
       "<style scoped>\n",
       "    .dataframe tbody tr th:only-of-type {\n",
       "        vertical-align: middle;\n",
       "    }\n",
       "\n",
       "    .dataframe tbody tr th {\n",
       "        vertical-align: top;\n",
       "    }\n",
       "\n",
       "    .dataframe thead th {\n",
       "        text-align: right;\n",
       "    }\n",
       "</style>\n",
       "<table border=\"1\" class=\"dataframe\">\n",
       "  <thead>\n",
       "    <tr style=\"text-align: right;\">\n",
       "      <th></th>\n",
       "      <th>fecha</th>\n",
       "      <th>id_caso</th>\n",
       "      <th>descripcion</th>\n",
       "      <th>estado_caso</th>\n",
       "      <th>categoria</th>\n",
       "      <th>latitud</th>\n",
       "      <th>longitud</th>\n",
       "    </tr>\n",
       "  </thead>\n",
       "  <tbody>\n",
       "    <tr>\n",
       "      <td>0</td>\n",
       "      <td>2019-05-25</td>\n",
       "      <td>1</td>\n",
       "      <td>nosenose</td>\n",
       "      <td>1</td>\n",
       "      <td>robo</td>\n",
       "      <td>13</td>\n",
       "      <td>43</td>\n",
       "    </tr>\n",
       "    <tr>\n",
       "      <td>1</td>\n",
       "      <td>2019-06-26</td>\n",
       "      <td>2</td>\n",
       "      <td>nosenose</td>\n",
       "      <td>2</td>\n",
       "      <td>robo</td>\n",
       "      <td>124</td>\n",
       "      <td>12</td>\n",
       "    </tr>\n",
       "    <tr>\n",
       "      <td>2</td>\n",
       "      <td>2019-05-04</td>\n",
       "      <td>3</td>\n",
       "      <td>nosenose</td>\n",
       "      <td>3</td>\n",
       "      <td>estafa</td>\n",
       "      <td>124</td>\n",
       "      <td>543</td>\n",
       "    </tr>\n",
       "    <tr>\n",
       "      <td>3</td>\n",
       "      <td>2019-07-23</td>\n",
       "      <td>4</td>\n",
       "      <td>nosenose</td>\n",
       "      <td>1</td>\n",
       "      <td>homicidio</td>\n",
       "      <td>123</td>\n",
       "      <td>543</td>\n",
       "    </tr>\n",
       "    <tr>\n",
       "      <td>4</td>\n",
       "      <td>2020-06-22</td>\n",
       "      <td>5</td>\n",
       "      <td>nosenose</td>\n",
       "      <td>2</td>\n",
       "      <td>robo</td>\n",
       "      <td>234</td>\n",
       "      <td>123</td>\n",
       "    </tr>\n",
       "    <tr>\n",
       "      <td>5</td>\n",
       "      <td>2019-05-15</td>\n",
       "      <td>6</td>\n",
       "      <td>nosenose</td>\n",
       "      <td>3</td>\n",
       "      <td>homicidio</td>\n",
       "      <td>123</td>\n",
       "      <td>523</td>\n",
       "    </tr>\n",
       "    <tr>\n",
       "      <td>6</td>\n",
       "      <td>2020-05-17</td>\n",
       "      <td>7</td>\n",
       "      <td>nosenose</td>\n",
       "      <td>1</td>\n",
       "      <td>estafa</td>\n",
       "      <td>543</td>\n",
       "      <td>23</td>\n",
       "    </tr>\n",
       "    <tr>\n",
       "      <td>7</td>\n",
       "      <td>2019-06-20</td>\n",
       "      <td>8</td>\n",
       "      <td>nosenose</td>\n",
       "      <td>2</td>\n",
       "      <td>robo</td>\n",
       "      <td>123</td>\n",
       "      <td>134</td>\n",
       "    </tr>\n",
       "    <tr>\n",
       "      <td>8</td>\n",
       "      <td>2020-07-21</td>\n",
       "      <td>9</td>\n",
       "      <td>nosenose</td>\n",
       "      <td>3</td>\n",
       "      <td>estafa</td>\n",
       "      <td>54</td>\n",
       "      <td>14</td>\n",
       "    </tr>\n",
       "    <tr>\n",
       "      <td>9</td>\n",
       "      <td>2020-08-22</td>\n",
       "      <td>11</td>\n",
       "      <td>nosenose</td>\n",
       "      <td>1</td>\n",
       "      <td>homicidio</td>\n",
       "      <td>132</td>\n",
       "      <td>432</td>\n",
       "    </tr>\n",
       "  </tbody>\n",
       "</table>\n",
       "</div>"
      ],
      "text/plain": [
       "        fecha  id_caso descripcion  estado_caso  categoria  latitud  longitud\n",
       "0  2019-05-25        1    nosenose            1       robo       13        43\n",
       "1  2019-06-26        2    nosenose            2       robo      124        12\n",
       "2  2019-05-04        3    nosenose            3     estafa      124       543\n",
       "3  2019-07-23        4    nosenose            1  homicidio      123       543\n",
       "4  2020-06-22        5    nosenose            2       robo      234       123\n",
       "5  2019-05-15        6    nosenose            3  homicidio      123       523\n",
       "6  2020-05-17        7    nosenose            1     estafa      543        23\n",
       "7  2019-06-20        8    nosenose            2       robo      123       134\n",
       "8  2020-07-21        9    nosenose            3     estafa       54        14\n",
       "9  2020-08-22       11    nosenose            1  homicidio      132       432"
      ]
     },
     "execution_count": 64,
     "metadata": {},
     "output_type": "execute_result"
    }
   ],
   "source": [
    "casos = pd.read_csv('casos_policiales.csv')\n",
    "casos"
   ]
  },
  {
   "cell_type": "code",
   "execution_count": 42,
   "metadata": {},
   "outputs": [],
   "source": [
    "#necesito la tasa de los casos con estado = 2"
   ]
  },
  {
   "cell_type": "code",
   "execution_count": 39,
   "metadata": {},
   "outputs": [
    {
     "data": {
      "text/html": [
       "<div>\n",
       "<style scoped>\n",
       "    .dataframe tbody tr th:only-of-type {\n",
       "        vertical-align: middle;\n",
       "    }\n",
       "\n",
       "    .dataframe tbody tr th {\n",
       "        vertical-align: top;\n",
       "    }\n",
       "\n",
       "    .dataframe thead th {\n",
       "        text-align: right;\n",
       "    }\n",
       "</style>\n",
       "<table border=\"1\" class=\"dataframe\">\n",
       "  <thead>\n",
       "    <tr style=\"text-align: right;\">\n",
       "      <th></th>\n",
       "      <th>estado_caso</th>\n",
       "      <th>id_caso</th>\n",
       "    </tr>\n",
       "  </thead>\n",
       "  <tbody>\n",
       "    <tr>\n",
       "      <td>0</td>\n",
       "      <td>1</td>\n",
       "      <td>4</td>\n",
       "    </tr>\n",
       "    <tr>\n",
       "      <td>1</td>\n",
       "      <td>2</td>\n",
       "      <td>3</td>\n",
       "    </tr>\n",
       "    <tr>\n",
       "      <td>2</td>\n",
       "      <td>3</td>\n",
       "      <td>3</td>\n",
       "    </tr>\n",
       "  </tbody>\n",
       "</table>\n",
       "</div>"
      ],
      "text/plain": [
       "   estado_caso  id_caso\n",
       "0            1        4\n",
       "1            2        3\n",
       "2            3        3"
      ]
     },
     "execution_count": 39,
     "metadata": {},
     "output_type": "execute_result"
    }
   ],
   "source": [
    "cantidad_casos_x_estado = casos.groupby('estado_caso').agg({'id_caso':'count'}).reset_index()\n",
    "cantidad_casos_x_estado"
   ]
  },
  {
   "cell_type": "code",
   "execution_count": 45,
   "metadata": {},
   "outputs": [
    {
     "data": {
      "text/plain": [
       "1    0.3\n",
       "Name: id_caso, dtype: float64"
      ]
     },
     "execution_count": 45,
     "metadata": {},
     "output_type": "execute_result"
    }
   ],
   "source": [
    "tasa_resueltos = cantidad_casos_x_estado[cantidad_casos_x_estado['estado_caso']==2]['id_caso'] / casos['id_caso'].count()\n",
    "tasa_resueltos"
   ]
  },
  {
   "cell_type": "code",
   "execution_count": 46,
   "metadata": {},
   "outputs": [],
   "source": [
    "#B. Tasa de resolución de casos con la ayuda de Batman (considerando que aquellos casos\n",
    "#en los que fue llamado con la batiseñal, participó en la resolución)."
   ]
  },
  {
   "cell_type": "code",
   "execution_count": 48,
   "metadata": {},
   "outputs": [
    {
     "data": {
      "text/html": [
       "<div>\n",
       "<style scoped>\n",
       "    .dataframe tbody tr th:only-of-type {\n",
       "        vertical-align: middle;\n",
       "    }\n",
       "\n",
       "    .dataframe tbody tr th {\n",
       "        vertical-align: top;\n",
       "    }\n",
       "\n",
       "    .dataframe thead th {\n",
       "        text-align: right;\n",
       "    }\n",
       "</style>\n",
       "<table border=\"1\" class=\"dataframe\">\n",
       "  <thead>\n",
       "    <tr style=\"text-align: right;\">\n",
       "      <th></th>\n",
       "      <th>id_caso</th>\n",
       "      <th>respuesta</th>\n",
       "    </tr>\n",
       "  </thead>\n",
       "  <tbody>\n",
       "    <tr>\n",
       "      <td>0</td>\n",
       "      <td>1</td>\n",
       "      <td>1</td>\n",
       "    </tr>\n",
       "    <tr>\n",
       "      <td>1</td>\n",
       "      <td>2</td>\n",
       "      <td>0</td>\n",
       "    </tr>\n",
       "    <tr>\n",
       "      <td>2</td>\n",
       "      <td>5</td>\n",
       "      <td>1</td>\n",
       "    </tr>\n",
       "    <tr>\n",
       "      <td>3</td>\n",
       "      <td>7</td>\n",
       "      <td>0</td>\n",
       "    </tr>\n",
       "    <tr>\n",
       "      <td>4</td>\n",
       "      <td>8</td>\n",
       "      <td>1</td>\n",
       "    </tr>\n",
       "    <tr>\n",
       "      <td>5</td>\n",
       "      <td>11</td>\n",
       "      <td>0</td>\n",
       "    </tr>\n",
       "  </tbody>\n",
       "</table>\n",
       "</div>"
      ],
      "text/plain": [
       "   id_caso  respuesta\n",
       "0        1          1\n",
       "1        2          0\n",
       "2        5          1\n",
       "3        7          0\n",
       "4        8          1\n",
       "5       11          0"
      ]
     },
     "execution_count": 48,
     "metadata": {},
     "output_type": "execute_result"
    }
   ],
   "source": [
    "batman = pd.read_csv('batman.csv')\n",
    "batman"
   ]
  },
  {
   "cell_type": "code",
   "execution_count": 49,
   "metadata": {},
   "outputs": [
    {
     "data": {
      "text/html": [
       "<div>\n",
       "<style scoped>\n",
       "    .dataframe tbody tr th:only-of-type {\n",
       "        vertical-align: middle;\n",
       "    }\n",
       "\n",
       "    .dataframe tbody tr th {\n",
       "        vertical-align: top;\n",
       "    }\n",
       "\n",
       "    .dataframe thead th {\n",
       "        text-align: right;\n",
       "    }\n",
       "</style>\n",
       "<table border=\"1\" class=\"dataframe\">\n",
       "  <thead>\n",
       "    <tr style=\"text-align: right;\">\n",
       "      <th></th>\n",
       "      <th>id_caso</th>\n",
       "      <th>respuesta</th>\n",
       "    </tr>\n",
       "  </thead>\n",
       "  <tbody>\n",
       "    <tr>\n",
       "      <td>0</td>\n",
       "      <td>1</td>\n",
       "      <td>1</td>\n",
       "    </tr>\n",
       "    <tr>\n",
       "      <td>2</td>\n",
       "      <td>5</td>\n",
       "      <td>1</td>\n",
       "    </tr>\n",
       "    <tr>\n",
       "      <td>4</td>\n",
       "      <td>8</td>\n",
       "      <td>1</td>\n",
       "    </tr>\n",
       "  </tbody>\n",
       "</table>\n",
       "</div>"
      ],
      "text/plain": [
       "   id_caso  respuesta\n",
       "0        1          1\n",
       "2        5          1\n",
       "4        8          1"
      ]
     },
     "execution_count": 49,
     "metadata": {},
     "output_type": "execute_result"
    }
   ],
   "source": [
    "#primero filtro los casos en los que ayudó batman\n",
    "casos_batman = batman[batman['respuesta']==1]\n",
    "casos_batman"
   ]
  },
  {
   "cell_type": "code",
   "execution_count": 50,
   "metadata": {},
   "outputs": [
    {
     "data": {
      "text/html": [
       "<div>\n",
       "<style scoped>\n",
       "    .dataframe tbody tr th:only-of-type {\n",
       "        vertical-align: middle;\n",
       "    }\n",
       "\n",
       "    .dataframe tbody tr th {\n",
       "        vertical-align: top;\n",
       "    }\n",
       "\n",
       "    .dataframe thead th {\n",
       "        text-align: right;\n",
       "    }\n",
       "</style>\n",
       "<table border=\"1\" class=\"dataframe\">\n",
       "  <thead>\n",
       "    <tr style=\"text-align: right;\">\n",
       "      <th></th>\n",
       "      <th>id_caso</th>\n",
       "      <th>respuesta</th>\n",
       "      <th>fecha</th>\n",
       "      <th>descripcion</th>\n",
       "      <th>estado_caso</th>\n",
       "      <th>categoria</th>\n",
       "      <th>latitud</th>\n",
       "      <th>longitud</th>\n",
       "    </tr>\n",
       "  </thead>\n",
       "  <tbody>\n",
       "    <tr>\n",
       "      <td>0</td>\n",
       "      <td>1</td>\n",
       "      <td>1</td>\n",
       "      <td>2018-05-25</td>\n",
       "      <td>nosenose</td>\n",
       "      <td>1</td>\n",
       "      <td>robo</td>\n",
       "      <td>13</td>\n",
       "      <td>43</td>\n",
       "    </tr>\n",
       "    <tr>\n",
       "      <td>1</td>\n",
       "      <td>5</td>\n",
       "      <td>1</td>\n",
       "      <td>2018-06-22</td>\n",
       "      <td>nosenose</td>\n",
       "      <td>2</td>\n",
       "      <td>robo</td>\n",
       "      <td>234</td>\n",
       "      <td>123</td>\n",
       "    </tr>\n",
       "    <tr>\n",
       "      <td>2</td>\n",
       "      <td>8</td>\n",
       "      <td>1</td>\n",
       "      <td>2018-06-20</td>\n",
       "      <td>nosenose</td>\n",
       "      <td>2</td>\n",
       "      <td>robo</td>\n",
       "      <td>123</td>\n",
       "      <td>134</td>\n",
       "    </tr>\n",
       "  </tbody>\n",
       "</table>\n",
       "</div>"
      ],
      "text/plain": [
       "   id_caso  respuesta       fecha descripcion  estado_caso categoria  latitud  \\\n",
       "0        1          1  2018-05-25    nosenose            1      robo       13   \n",
       "1        5          1  2018-06-22    nosenose            2      robo      234   \n",
       "2        8          1  2018-06-20    nosenose            2      robo      123   \n",
       "\n",
       "   longitud  \n",
       "0        43  \n",
       "1       123  \n",
       "2       134  "
      ]
     },
     "execution_count": 50,
     "metadata": {},
     "output_type": "execute_result"
    }
   ],
   "source": [
    "#necesito los casos en los que ayudo batman y que fueron resueltos\n",
    "casos_batman = casos_batman.merge(casos, how='inner', on='id_caso')\n",
    "casos_batman"
   ]
  },
  {
   "cell_type": "code",
   "execution_count": 53,
   "metadata": {},
   "outputs": [
    {
     "data": {
      "text/html": [
       "<div>\n",
       "<style scoped>\n",
       "    .dataframe tbody tr th:only-of-type {\n",
       "        vertical-align: middle;\n",
       "    }\n",
       "\n",
       "    .dataframe tbody tr th {\n",
       "        vertical-align: top;\n",
       "    }\n",
       "\n",
       "    .dataframe thead th {\n",
       "        text-align: right;\n",
       "    }\n",
       "</style>\n",
       "<table border=\"1\" class=\"dataframe\">\n",
       "  <thead>\n",
       "    <tr style=\"text-align: right;\">\n",
       "      <th></th>\n",
       "      <th>estado_caso</th>\n",
       "      <th>cantidad</th>\n",
       "    </tr>\n",
       "  </thead>\n",
       "  <tbody>\n",
       "    <tr>\n",
       "      <td>0</td>\n",
       "      <td>1</td>\n",
       "      <td>1</td>\n",
       "    </tr>\n",
       "    <tr>\n",
       "      <td>1</td>\n",
       "      <td>2</td>\n",
       "      <td>2</td>\n",
       "    </tr>\n",
       "  </tbody>\n",
       "</table>\n",
       "</div>"
      ],
      "text/plain": [
       "   estado_caso  cantidad\n",
       "0            1         1\n",
       "1            2         2"
      ]
     },
     "execution_count": 53,
     "metadata": {},
     "output_type": "execute_result"
    }
   ],
   "source": [
    "cantidad_casos_batman_x_estado = casos_batman.groupby('estado_caso').agg({'id_caso':'count'}).reset_index().rename(columns={'id_caso':'cantidad'})\n",
    "cantidad_casos_batman_x_estado"
   ]
  },
  {
   "cell_type": "code",
   "execution_count": 56,
   "metadata": {},
   "outputs": [
    {
     "data": {
      "text/plain": [
       "1    0.666667\n",
       "Name: cantidad, dtype: float64"
      ]
     },
     "execution_count": 56,
     "metadata": {},
     "output_type": "execute_result"
    }
   ],
   "source": [
    "tasa_resolucion_batman = cantidad_casos_batman_x_estado[cantidad_casos_batman_x_estado['estado_caso']==2]['cantidad']/casos_batman['id_caso'].count()\n",
    "tasa_resolucion_batman"
   ]
  },
  {
   "cell_type": "code",
   "execution_count": 57,
   "metadata": {},
   "outputs": [],
   "source": [
    "#C. Indicar el mes del año pasado en el que Batman tuvo mayor participación en la\n",
    "#investigación de casos."
   ]
  },
  {
   "cell_type": "code",
   "execution_count": 65,
   "metadata": {},
   "outputs": [
    {
     "data": {
      "text/html": [
       "<div>\n",
       "<style scoped>\n",
       "    .dataframe tbody tr th:only-of-type {\n",
       "        vertical-align: middle;\n",
       "    }\n",
       "\n",
       "    .dataframe tbody tr th {\n",
       "        vertical-align: top;\n",
       "    }\n",
       "\n",
       "    .dataframe thead th {\n",
       "        text-align: right;\n",
       "    }\n",
       "</style>\n",
       "<table border=\"1\" class=\"dataframe\">\n",
       "  <thead>\n",
       "    <tr style=\"text-align: right;\">\n",
       "      <th></th>\n",
       "      <th>fecha</th>\n",
       "      <th>id_caso</th>\n",
       "      <th>descripcion</th>\n",
       "      <th>estado_caso</th>\n",
       "      <th>categoria</th>\n",
       "      <th>latitud</th>\n",
       "      <th>longitud</th>\n",
       "    </tr>\n",
       "  </thead>\n",
       "  <tbody>\n",
       "    <tr>\n",
       "      <td>0</td>\n",
       "      <td>2019-05-25</td>\n",
       "      <td>1</td>\n",
       "      <td>nosenose</td>\n",
       "      <td>1</td>\n",
       "      <td>robo</td>\n",
       "      <td>13</td>\n",
       "      <td>43</td>\n",
       "    </tr>\n",
       "    <tr>\n",
       "      <td>1</td>\n",
       "      <td>2019-06-26</td>\n",
       "      <td>2</td>\n",
       "      <td>nosenose</td>\n",
       "      <td>2</td>\n",
       "      <td>robo</td>\n",
       "      <td>124</td>\n",
       "      <td>12</td>\n",
       "    </tr>\n",
       "    <tr>\n",
       "      <td>2</td>\n",
       "      <td>2019-05-04</td>\n",
       "      <td>3</td>\n",
       "      <td>nosenose</td>\n",
       "      <td>3</td>\n",
       "      <td>estafa</td>\n",
       "      <td>124</td>\n",
       "      <td>543</td>\n",
       "    </tr>\n",
       "    <tr>\n",
       "      <td>3</td>\n",
       "      <td>2019-07-23</td>\n",
       "      <td>4</td>\n",
       "      <td>nosenose</td>\n",
       "      <td>1</td>\n",
       "      <td>homicidio</td>\n",
       "      <td>123</td>\n",
       "      <td>543</td>\n",
       "    </tr>\n",
       "    <tr>\n",
       "      <td>5</td>\n",
       "      <td>2019-05-15</td>\n",
       "      <td>6</td>\n",
       "      <td>nosenose</td>\n",
       "      <td>3</td>\n",
       "      <td>homicidio</td>\n",
       "      <td>123</td>\n",
       "      <td>523</td>\n",
       "    </tr>\n",
       "    <tr>\n",
       "      <td>7</td>\n",
       "      <td>2019-06-20</td>\n",
       "      <td>8</td>\n",
       "      <td>nosenose</td>\n",
       "      <td>2</td>\n",
       "      <td>robo</td>\n",
       "      <td>123</td>\n",
       "      <td>134</td>\n",
       "    </tr>\n",
       "  </tbody>\n",
       "</table>\n",
       "</div>"
      ],
      "text/plain": [
       "       fecha  id_caso descripcion  estado_caso  categoria  latitud  longitud\n",
       "0 2019-05-25        1    nosenose            1       robo       13        43\n",
       "1 2019-06-26        2    nosenose            2       robo      124        12\n",
       "2 2019-05-04        3    nosenose            3     estafa      124       543\n",
       "3 2019-07-23        4    nosenose            1  homicidio      123       543\n",
       "5 2019-05-15        6    nosenose            3  homicidio      123       523\n",
       "7 2019-06-20        8    nosenose            2       robo      123       134"
      ]
     },
     "execution_count": 65,
     "metadata": {},
     "output_type": "execute_result"
    }
   ],
   "source": [
    "#primero me quedo con los casos del año pasado\n",
    "casos['fecha'] = pd.to_datetime(casos['fecha'])\n",
    "casos_2019 = casos[casos['fecha'].dt.year == 2019]\n",
    "casos_2019"
   ]
  },
  {
   "cell_type": "code",
   "execution_count": 87,
   "metadata": {},
   "outputs": [
    {
     "data": {
      "text/html": [
       "<div>\n",
       "<style scoped>\n",
       "    .dataframe tbody tr th:only-of-type {\n",
       "        vertical-align: middle;\n",
       "    }\n",
       "\n",
       "    .dataframe tbody tr th {\n",
       "        vertical-align: top;\n",
       "    }\n",
       "\n",
       "    .dataframe thead th {\n",
       "        text-align: right;\n",
       "    }\n",
       "</style>\n",
       "<table border=\"1\" class=\"dataframe\">\n",
       "  <thead>\n",
       "    <tr style=\"text-align: right;\">\n",
       "      <th></th>\n",
       "      <th>id_caso</th>\n",
       "      <th>respuesta</th>\n",
       "      <th>fecha</th>\n",
       "      <th>descripcion</th>\n",
       "      <th>estado_caso</th>\n",
       "      <th>categoria</th>\n",
       "      <th>latitud</th>\n",
       "      <th>longitud</th>\n",
       "    </tr>\n",
       "  </thead>\n",
       "  <tbody>\n",
       "    <tr>\n",
       "      <td>0</td>\n",
       "      <td>1</td>\n",
       "      <td>1</td>\n",
       "      <td>2019-05-25</td>\n",
       "      <td>nosenose</td>\n",
       "      <td>1</td>\n",
       "      <td>robo</td>\n",
       "      <td>13</td>\n",
       "      <td>43</td>\n",
       "    </tr>\n",
       "    <tr>\n",
       "      <td>1</td>\n",
       "      <td>2</td>\n",
       "      <td>0</td>\n",
       "      <td>2019-06-26</td>\n",
       "      <td>nosenose</td>\n",
       "      <td>2</td>\n",
       "      <td>robo</td>\n",
       "      <td>124</td>\n",
       "      <td>12</td>\n",
       "    </tr>\n",
       "    <tr>\n",
       "      <td>2</td>\n",
       "      <td>8</td>\n",
       "      <td>1</td>\n",
       "      <td>2019-06-20</td>\n",
       "      <td>nosenose</td>\n",
       "      <td>2</td>\n",
       "      <td>robo</td>\n",
       "      <td>123</td>\n",
       "      <td>134</td>\n",
       "    </tr>\n",
       "  </tbody>\n",
       "</table>\n",
       "</div>"
      ],
      "text/plain": [
       "   id_caso  respuesta      fecha descripcion  estado_caso categoria  latitud  \\\n",
       "0        1          1 2019-05-25    nosenose            1      robo       13   \n",
       "1        2          0 2019-06-26    nosenose            2      robo      124   \n",
       "2        8          1 2019-06-20    nosenose            2      robo      123   \n",
       "\n",
       "   longitud  \n",
       "0        43  \n",
       "1        12  \n",
       "2       134  "
      ]
     },
     "execution_count": 87,
     "metadata": {},
     "output_type": "execute_result"
    }
   ],
   "source": [
    "#busco los casos en que participo batman\n",
    "casos_batman_2019 = batman.merge(casos_2019, on='id_caso', how='inner')\n",
    "casos_batman_2019"
   ]
  },
  {
   "cell_type": "code",
   "execution_count": 88,
   "metadata": {},
   "outputs": [
    {
     "data": {
      "text/html": [
       "<div>\n",
       "<style scoped>\n",
       "    .dataframe tbody tr th:only-of-type {\n",
       "        vertical-align: middle;\n",
       "    }\n",
       "\n",
       "    .dataframe tbody tr th {\n",
       "        vertical-align: top;\n",
       "    }\n",
       "\n",
       "    .dataframe thead th {\n",
       "        text-align: right;\n",
       "    }\n",
       "</style>\n",
       "<table border=\"1\" class=\"dataframe\">\n",
       "  <thead>\n",
       "    <tr style=\"text-align: right;\">\n",
       "      <th></th>\n",
       "      <th>id_caso</th>\n",
       "      <th>fecha</th>\n",
       "      <th>mes</th>\n",
       "    </tr>\n",
       "  </thead>\n",
       "  <tbody>\n",
       "    <tr>\n",
       "      <td>0</td>\n",
       "      <td>1</td>\n",
       "      <td>2019-05-25</td>\n",
       "      <td>5</td>\n",
       "    </tr>\n",
       "    <tr>\n",
       "      <td>1</td>\n",
       "      <td>2</td>\n",
       "      <td>2019-06-26</td>\n",
       "      <td>6</td>\n",
       "    </tr>\n",
       "    <tr>\n",
       "      <td>2</td>\n",
       "      <td>8</td>\n",
       "      <td>2019-06-20</td>\n",
       "      <td>6</td>\n",
       "    </tr>\n",
       "  </tbody>\n",
       "</table>\n",
       "</div>"
      ],
      "text/plain": [
       "   id_caso      fecha  mes\n",
       "0        1 2019-05-25    5\n",
       "1        2 2019-06-26    6\n",
       "2        8 2019-06-20    6"
      ]
     },
     "execution_count": 88,
     "metadata": {},
     "output_type": "execute_result"
    }
   ],
   "source": [
    "#agrupo por anio\n",
    "casos_batman_2019=casos_batman_2019.loc[:,['id_caso','fecha']]\n",
    "casos_batman_2019['mes'] = casos_batman_2019.fecha.dt.month\n",
    "casos_batman_2019"
   ]
  },
  {
   "cell_type": "code",
   "execution_count": 90,
   "metadata": {},
   "outputs": [],
   "source": [
    "casos_batman_2019['cantidad_x_mes'] = 1"
   ]
  },
  {
   "cell_type": "code",
   "execution_count": 96,
   "metadata": {},
   "outputs": [
    {
     "data": {
      "text/plain": [
       "6"
      ]
     },
     "execution_count": 96,
     "metadata": {},
     "output_type": "execute_result"
    }
   ],
   "source": [
    "casos_batman_2019.groupby('mes').agg({'cantidad_x_mes':'sum'})['cantidad_x_mes'].idxmax()"
   ]
  }
 ],
 "metadata": {
  "kernelspec": {
   "display_name": "Python 3",
   "language": "python",
   "name": "python3"
  },
  "language_info": {
   "codemirror_mode": {
    "name": "ipython",
    "version": 3
   },
   "file_extension": ".py",
   "mimetype": "text/x-python",
   "name": "python",
   "nbconvert_exporter": "python",
   "pygments_lexer": "ipython3",
   "version": "3.7.4"
  }
 },
 "nbformat": 4,
 "nbformat_minor": 2
}
