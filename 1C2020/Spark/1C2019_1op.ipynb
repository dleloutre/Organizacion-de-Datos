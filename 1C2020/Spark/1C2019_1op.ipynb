{
 "cells": [
  {
   "cell_type": "code",
   "execution_count": 1,
   "metadata": {},
   "outputs": [],
   "source": [
    "import pyspark\n",
    "import pandas"
   ]
  },
  {
   "cell_type": "markdown",
   "metadata": {},
   "source": [
    "El servicio metereológico registra datos del tiempo para todas las ciudades donde posee una base de medición. Esta información se encuentra en dos RDD. En el primero se tiene informacion de las bases de medicion (id_base, nombre, pcia, ciudad, lat, lon). El segundo posee información sobre las mediciones en sí: (timestamp, id_base, temperatura, humedad, presión, dirección viente, velocidad viento). \n",
    "Se desea obtener un reporte para las bases de la Pcia de Bs As. El mismo debe informar los ID y nombre de bases de medición que hayan registrado una variacion de temperatura promedio mensual mayor al 30% en el año 2018 (dada la temperatura promedio de un mes, esta se debe comparar con el promedio del mes anterior, para determinar la variacion porcentual)"
   ]
  },
  {
   "cell_type": "code",
   "execution_count": 7,
   "metadata": {},
   "outputs": [],
   "source": [
    "# (id_base,nombre,pcia,ciudad,lat,lon)\n",
    "bases = [\n",
    "    (1, 'base1', 'Buenos Aires', 'San Fernando', -1432, 93482),\n",
    "    (2, 'base2', 'Mendoza', 'San Rafael', -32432, 43243),\n",
    "    (3, 'base3', 'Mendoza', 'Las Leñas', -32313, 354345),\n",
    "    (4, 'base4', 'Buenos Aires', 'CABA', -123123, 432423),\n",
    "    (5, 'base5', 'Neuquen', 'Bariloche', -634534, 564563),\n",
    "    (6, 'base6', 'Buenos Aires', 'Merlo', -453453,57454),\n",
    "    (7, 'base7', 'Buenos Aires', 'Avellaneda', -2493284, -3428234),\n",
    "    (8, 'base8', 'Buenos Aires', 'Tigre', -32432, 654654),\n",
    "    (9, 'base9', 'Buenos Aires', 'Quilmes', -98324, -3284723),\n",
    "    (10, 'base10', 'Misiones', 'San Ignacio', -654645, 564345)\n",
    "]\n",
    "\n",
    "# (timestamp, id_base, temperatura, humedad, presion, direccion viento, velocidad viento)\n",
    "mediciones = [\n",
    "    ('2018-03-04', 1, 25, 96, 300, 'NO', 47),\n",
    "    ('2017-12-03', 1, 25, 96, 300, 'NO', 47),\n",
    "    ('2018-04-05', 1, 15, 96, 300, 'NO', 47),\n",
    "    ('2018-05-12', 1, 18, 96, 300, 'NO', 47),\n",
    "    ('2018-05-21', 1, 23, 96, 300, 'NO', 47),\n",
    "    ('2018-01-04', 1, 38, 96, 300, 'NO', 47),\n",
    "    ('2018-02-29', 1, 28, 96, 300, 'NO', 47),\n",
    "    ('2018-06-14', 1, 9, 96, 300, 'NO', 47),\n",
    "    ('2018-07-12', 1, 5, 96, 300, 'NO', 47),\n",
    "    ('2018-08-31', 1, 19, 96, 300, 'NO', 47),\n",
    "    ('2018-09-14', 1, 20, 96, 300, 'NO', 47),\n",
    "    ('2019-03-12', 1, 23, 96, 300, 'NO', 47),\n",
    "    ('2019-04-15', 1, 16, 96, 300, 'NO', 47),\n",
    "    ('2018-07-12', 2, 5, 96, 300, 'NO', 47),\n",
    "    ('2018-08-31', 2, 19, 96, 300, 'NO', 47),\n",
    "    ('2018-09-14', 4, 26, 96, 300, 'NO', 47),\n",
    "    ('2018-08-12', 4, 13, 96, 300, 'NO', 47),\n",
    "    ('2019-04-15', 4, 16, 96, 300, 'NO', 47)\n",
    "]"
   ]
  },
  {
   "cell_type": "code",
   "execution_count": 109,
   "metadata": {},
   "outputs": [],
   "source": [
    "basesRdd = sc.parallelize(bases)\n",
    "medicionesRdd = sc.parallelize(mediciones)"
   ]
  },
  {
   "cell_type": "code",
   "execution_count": 110,
   "metadata": {},
   "outputs": [
    {
     "data": {
      "text/plain": [
       "[(1, 'base1', 'Buenos Aires', 'San Fernando', -1432, 93482),\n",
       " (4, 'base4', 'Buenos Aires', 'CABA', -123123, 432423),\n",
       " (6, 'base6', 'Buenos Aires', 'Merlo', -453453, 57454),\n",
       " (7, 'base7', 'Buenos Aires', 'Avellaneda', -2493284, -3428234),\n",
       " (8, 'base8', 'Buenos Aires', 'Tigre', -32432, 654654),\n",
       " (9, 'base9', 'Buenos Aires', 'Quilmes', -98324, -3284723)]"
      ]
     },
     "execution_count": 110,
     "metadata": {},
     "output_type": "execute_result"
    }
   ],
   "source": [
    "#primero filtro bases de buenos aires\n",
    "basesRdd = basesRdd.filter(lambda x: x[2] == 'Buenos Aires')\n",
    "basesRdd.collect()"
   ]
  },
  {
   "cell_type": "code",
   "execution_count": 111,
   "metadata": {},
   "outputs": [
    {
     "data": {
      "text/plain": [
       "[('2018-03-04', 1, 25, 96, 300, 'NO', 47),\n",
       " ('2018-04-05', 1, 15, 96, 300, 'NO', 47),\n",
       " ('2018-05-12', 1, 18, 96, 300, 'NO', 47),\n",
       " ('2018-05-21', 1, 23, 96, 300, 'NO', 47),\n",
       " ('2018-01-04', 1, 38, 96, 300, 'NO', 47),\n",
       " ('2018-02-29', 1, 28, 96, 300, 'NO', 47),\n",
       " ('2018-06-14', 1, 9, 96, 300, 'NO', 47),\n",
       " ('2018-07-12', 1, 5, 96, 300, 'NO', 47),\n",
       " ('2018-08-31', 1, 19, 96, 300, 'NO', 47),\n",
       " ('2018-09-14', 1, 20, 96, 300, 'NO', 47),\n",
       " ('2018-07-12', 2, 5, 96, 300, 'NO', 47),\n",
       " ('2018-08-31', 2, 19, 96, 300, 'NO', 47),\n",
       " ('2018-09-14', 4, 26, 96, 300, 'NO', 47),\n",
       " ('2018-08-12', 4, 13, 96, 300, 'NO', 47)]"
      ]
     },
     "execution_count": 111,
     "metadata": {},
     "output_type": "execute_result"
    }
   ],
   "source": [
    "#filtro mediciones de 2018\n",
    "medicionesRdd = medicionesRdd.filter(lambda x: '2018' in x[0])\n",
    "medicionesRdd.collect()"
   ]
  },
  {
   "cell_type": "code",
   "execution_count": 112,
   "metadata": {},
   "outputs": [
    {
     "data": {
      "text/plain": [
       "[(1, ('base1', ('2018-03-04', 25))),\n",
       " (1, ('base1', ('2018-04-05', 15))),\n",
       " (1, ('base1', ('2018-05-12', 18))),\n",
       " (1, ('base1', ('2018-05-21', 23))),\n",
       " (1, ('base1', ('2018-01-04', 38))),\n",
       " (1, ('base1', ('2018-02-29', 28))),\n",
       " (1, ('base1', ('2018-06-14', 9))),\n",
       " (1, ('base1', ('2018-07-12', 5))),\n",
       " (1, ('base1', ('2018-08-31', 19))),\n",
       " (1, ('base1', ('2018-09-14', 20))),\n",
       " (4, ('base4', ('2018-09-14', 26))),\n",
       " (4, ('base4', ('2018-08-12', 13)))]"
      ]
     },
     "execution_count": 112,
     "metadata": {},
     "output_type": "execute_result"
    }
   ],
   "source": [
    "# mapeo ambos rdds\n",
    "basesRdd = basesRdd.map(lambda x: (x[0], x[1]))\n",
    "medicionesRdd = medicionesRdd.map(lambda x: (x[1], (x[0],x[2])))\n",
    "# joineo ahora asi me quedan las mediciones de buenos aires\n",
    "medsRdd = basesRdd.join(medicionesRdd)\n",
    "medsRdd.collect()"
   ]
  },
  {
   "cell_type": "code",
   "execution_count": 113,
   "metadata": {},
   "outputs": [
    {
     "data": {
      "text/plain": [
       "[(('2018', '03', 1, 'base1'), (25, 1)),\n",
       " (('2018', '04', 1, 'base1'), (15, 1)),\n",
       " (('2018', '05', 1, 'base1'), (18, 1)),\n",
       " (('2018', '05', 1, 'base1'), (23, 1)),\n",
       " (('2018', '01', 1, 'base1'), (38, 1)),\n",
       " (('2018', '02', 1, 'base1'), (28, 1)),\n",
       " (('2018', '06', 1, 'base1'), (9, 1)),\n",
       " (('2018', '07', 1, 'base1'), (5, 1)),\n",
       " (('2018', '08', 1, 'base1'), (19, 1)),\n",
       " (('2018', '09', 1, 'base1'), (20, 1)),\n",
       " (('2018', '09', 4, 'base4'), (26, 1)),\n",
       " (('2018', '08', 4, 'base4'), (13, 1))]"
      ]
     },
     "execution_count": 113,
     "metadata": {},
     "output_type": "execute_result"
    }
   ],
   "source": [
    "# calculo la temperatura promedio por mes, para eso pongo como clave el mes y año (esto en realidad lo tendria\n",
    "# que haber hecho en el map anterior)\n",
    "medsRdd = medsRdd.map(lambda x: ((x[1][1][0].split('-')[0], x[1][1][0].split('-')[1],x[0],x[1][0]),(x[1][1][1], 1)))\n",
    "medsRdd.collect()"
   ]
  },
  {
   "cell_type": "code",
   "execution_count": 134,
   "metadata": {
    "scrolled": true
   },
   "outputs": [
    {
     "data": {
      "text/plain": [
       "[(('2018', '01', 1, 'base1'), 38.0),\n",
       " (('2018', '02', 1, 'base1'), 28.0),\n",
       " (('2018', '03', 1, 'base1'), 25.0),\n",
       " (('2018', '04', 1, 'base1'), 15.0),\n",
       " (('2018', '05', 1, 'base1'), 20.5),\n",
       " (('2018', '06', 1, 'base1'), 9.0),\n",
       " (('2018', '07', 1, 'base1'), 5.0),\n",
       " (('2018', '08', 1, 'base1'), 19.0),\n",
       " (('2018', '08', 4, 'base4'), 13.0),\n",
       " (('2018', '09', 1, 'base1'), 20.0),\n",
       " (('2018', '09', 4, 'base4'), 26.0)]"
      ]
     },
     "execution_count": 134,
     "metadata": {},
     "output_type": "execute_result"
    }
   ],
   "source": [
    "medsRdd = medsRdd.reduceByKey(lambda x,y: ((x[0]+y[0])/(x[1]+y[1]))) #esto(promedio) mejor hacerlo en dos pasos!\n",
    "medsRdd = medsRdd.map(lambda x: (x[0], x[1][0]/x[1][1]) if ((type(x[1])==tuple)) else (x[0],x[1])).sortByKey()\n",
    "medsRdd.collect()"
   ]
  },
  {
   "cell_type": "code",
   "execution_count": 149,
   "metadata": {},
   "outputs": [
    {
     "data": {
      "text/plain": [
       "[(1,\n",
       "  [(1.0, 'base1'),\n",
       "   (0.35714285714285715, 'base1'),\n",
       "   (0.6666666666666666, 'base1'),\n",
       "   (1.2777777777777777, 'base1'),\n",
       "   (0.8, 'base1'),\n",
       "   (0.7368421052631579, 'base1')]),\n",
       " (4, [(1.0, 'base4'), (0.5, 'base4')])]"
      ]
     },
     "execution_count": 149,
     "metadata": {},
     "output_type": "execute_result"
    }
   ],
   "source": [
    "def comparar(x):\n",
    "    tempAnterior = 0\n",
    "    newList = []\n",
    "    for registro in x[1]:\n",
    "        if ((abs(registro[0]-tempAnterior)/registro[0]) > 0.3):\n",
    "                newReg = ((abs(registro[0]-tempAnterior)/registro[0]), registro[3])\n",
    "                newList.append(newReg)\n",
    "        tempAnterior = registro[0]\n",
    "        #return newList\n",
    "    #x[1] = newList\n",
    "    return (x[0], newList)\n",
    "    \n",
    "        \n",
    "\n",
    "#medsRdd.map(lambda x: (x[0][2], (x[1],x[0][0],x[0][1],x[0][3]))).groupByKey().map(lambda x: (x[0], list(x[1]))).collect()\n",
    "medsRdd.map(lambda x: (x[0][2], (x[1],x[0][0],x[0][1],x[0][3]))).groupByKey().map(lambda x: (x[0], list(x[1])))\\\n",
    ".map(comparar)\\\n",
    ".collect()"
   ]
  },
  {
   "cell_type": "code",
   "execution_count": 150,
   "metadata": {},
   "outputs": [],
   "source": [
    "#def mes_anterior(x):\n",
    "#    if (x[0][1] == '12'):\n",
    "#        anioAnterior = str(int(x[0][0])-1)\n",
    "#    else:\n",
    "#        anioAnterior = x[0][0]\n",
    "#    if (x[0][1] == '01'):\n",
    "#        mesAnterior = '12'\n",
    "#    else:\n",
    "#        mesAnterior = str(int(x[0][1])-1)\n",
    "#    if (type(x[1]) == tuple) | (type(x[1]) == list):\n",
    "#        return ((x[0][0], x[0][1], x[0][2], x[0][3]),(x[1][0]/x[1][1], mesAnterior, anioAnterior))\n",
    "#    else:\n",
    "#        return ((x[0][0], x[0][1], x[0][2], x[0][3]),(x[1], mesAnterior, anioAnterior))\n",
    "\n",
    "# a cada registro le guardo el mes anterior\n",
    "#medsRdd.map(lambda x: (x[2], (x[])))"
   ]
  },
  {
   "cell_type": "code",
   "execution_count": null,
   "metadata": {},
   "outputs": [],
   "source": []
  },
  {
   "cell_type": "code",
   "execution_count": null,
   "metadata": {},
   "outputs": [],
   "source": []
  }
 ],
 "metadata": {
  "kernelspec": {
   "display_name": "Python 3",
   "language": "python",
   "name": "python3"
  },
  "language_info": {
   "codemirror_mode": {
    "name": "ipython",
    "version": 3
   },
   "file_extension": ".py",
   "mimetype": "text/x-python",
   "name": "python",
   "nbconvert_exporter": "python",
   "pygments_lexer": "ipython3",
   "version": "3.7.4"
  }
 },
 "nbformat": 4,
 "nbformat_minor": 2
}
