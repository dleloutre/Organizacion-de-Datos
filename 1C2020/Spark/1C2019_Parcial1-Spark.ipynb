{
 "cells": [
  {
   "cell_type": "code",
   "execution_count": 1,
   "metadata": {},
   "outputs": [],
   "source": [
    "# ACARA posee informacion historica sobre la venta de autos 0 km en la Arg. Posee un RDD con informacion\n",
    "# de cada modelo (marca, modelo, motor, transmision, origen) y otro con la informacion de ventas\n",
    "# (marca, modelo, fecha, concesionaria). \n",
    "# Se desea conocer, para los modelos de origen nacional, cuales son los modelos que ya se discontinuaron\n",
    "# (un modelo discontinuado es aquel que no tuvo ventas en los ultimos 12 meses), obteniendo un nuevo RDD\n",
    "# con (marca, modelo, total_vendido, fecha_inicio_venta, fecha_discontinuacion), donde la fecha de\n",
    "# discontinuacion es la fecha cuando se vendio el ultimo auto de ese modelo, ordenado ascendentemente por fecha.\n",
    "# Aclaracion: se puede asumir que el primer RDD tiene un unico registro para cada marca y modelo."
   ]
  },
  {
   "cell_type": "code",
   "execution_count": 2,
   "metadata": {},
   "outputs": [
    {
     "ename": "ValueError",
     "evalue": "Cannot run multiple SparkContexts at once; existing SparkContext(app=PySparkShell, master=local[*]) created by <module> at /home/daniela/anaconda3/lib/python3.7/site-packages/IPython/utils/py3compat.py:188 ",
     "output_type": "error",
     "traceback": [
      "\u001b[0;31m---------------------------------------------------------------------------\u001b[0m",
      "\u001b[0;31mValueError\u001b[0m                                Traceback (most recent call last)",
      "\u001b[0;32m<ipython-input-2-cfc4828451de>\u001b[0m in \u001b[0;36m<module>\u001b[0;34m\u001b[0m\n\u001b[1;32m      1\u001b[0m \u001b[0;32mimport\u001b[0m \u001b[0mpandas\u001b[0m\u001b[0;34m\u001b[0m\u001b[0;34m\u001b[0m\u001b[0m\n\u001b[1;32m      2\u001b[0m \u001b[0;32mimport\u001b[0m \u001b[0mpyspark\u001b[0m\u001b[0;34m\u001b[0m\u001b[0;34m\u001b[0m\u001b[0m\n\u001b[0;32m----> 3\u001b[0;31m \u001b[0msc\u001b[0m \u001b[0;34m=\u001b[0m \u001b[0mpyspark\u001b[0m\u001b[0;34m.\u001b[0m\u001b[0mSparkContext\u001b[0m\u001b[0;34m(\u001b[0m\u001b[0;34m'local[*]'\u001b[0m\u001b[0;34m)\u001b[0m\u001b[0;34m\u001b[0m\u001b[0;34m\u001b[0m\u001b[0m\n\u001b[0m",
      "\u001b[0;32m~/Escritorio/Spark/spark-3.0.0-preview2-bin-hadoop2.7/python/pyspark/context.py\u001b[0m in \u001b[0;36m__init__\u001b[0;34m(self, master, appName, sparkHome, pyFiles, environment, batchSize, serializer, conf, gateway, jsc, profiler_cls)\u001b[0m\n\u001b[1;32m    125\u001b[0m                 \" is not allowed as it is a security risk.\")\n\u001b[1;32m    126\u001b[0m \u001b[0;34m\u001b[0m\u001b[0m\n\u001b[0;32m--> 127\u001b[0;31m         \u001b[0mSparkContext\u001b[0m\u001b[0;34m.\u001b[0m\u001b[0m_ensure_initialized\u001b[0m\u001b[0;34m(\u001b[0m\u001b[0mself\u001b[0m\u001b[0;34m,\u001b[0m \u001b[0mgateway\u001b[0m\u001b[0;34m=\u001b[0m\u001b[0mgateway\u001b[0m\u001b[0;34m,\u001b[0m \u001b[0mconf\u001b[0m\u001b[0;34m=\u001b[0m\u001b[0mconf\u001b[0m\u001b[0;34m)\u001b[0m\u001b[0;34m\u001b[0m\u001b[0;34m\u001b[0m\u001b[0m\n\u001b[0m\u001b[1;32m    128\u001b[0m         \u001b[0;32mtry\u001b[0m\u001b[0;34m:\u001b[0m\u001b[0;34m\u001b[0m\u001b[0;34m\u001b[0m\u001b[0m\n\u001b[1;32m    129\u001b[0m             self._do_init(master, appName, sparkHome, pyFiles, environment, batchSize, serializer,\n",
      "\u001b[0;32m~/Escritorio/Spark/spark-3.0.0-preview2-bin-hadoop2.7/python/pyspark/context.py\u001b[0m in \u001b[0;36m_ensure_initialized\u001b[0;34m(cls, instance, gateway, conf)\u001b[0m\n\u001b[1;32m    333\u001b[0m                         \u001b[0;34m\" created by %s at %s:%s \"\u001b[0m\u001b[0;34m\u001b[0m\u001b[0;34m\u001b[0m\u001b[0m\n\u001b[1;32m    334\u001b[0m                         % (currentAppName, currentMaster,\n\u001b[0;32m--> 335\u001b[0;31m                             callsite.function, callsite.file, callsite.linenum))\n\u001b[0m\u001b[1;32m    336\u001b[0m                 \u001b[0;32melse\u001b[0m\u001b[0;34m:\u001b[0m\u001b[0;34m\u001b[0m\u001b[0;34m\u001b[0m\u001b[0m\n\u001b[1;32m    337\u001b[0m                     \u001b[0mSparkContext\u001b[0m\u001b[0;34m.\u001b[0m\u001b[0m_active_spark_context\u001b[0m \u001b[0;34m=\u001b[0m \u001b[0minstance\u001b[0m\u001b[0;34m\u001b[0m\u001b[0;34m\u001b[0m\u001b[0m\n",
      "\u001b[0;31mValueError\u001b[0m: Cannot run multiple SparkContexts at once; existing SparkContext(app=PySparkShell, master=local[*]) created by <module> at /home/daniela/anaconda3/lib/python3.7/site-packages/IPython/utils/py3compat.py:188 "
     ]
    }
   ],
   "source": [
    "import pandas\n",
    "import pyspark\n",
    "sc = pyspark.SparkContext('local[*]')"
   ]
  },
  {
   "cell_type": "code",
   "execution_count": 3,
   "metadata": {},
   "outputs": [],
   "source": [
    "# marca, modelo, motor, transmision, origen\n",
    "infoModelos = [\n",
    "    ('Fiat', 'Cronos', 'M1', 'T1', 'Argentina'),\n",
    "    ('Mitsubishi', 'Lancer', 'M1', 'T1', 'Japon'),\n",
    "    ('Toyota', 'Hilux', 'M3', 'T3', 'Argentina'),\n",
    "    ('Chevrolet', 'Onix', 'M2', 'T2', 'Argentina'),\n",
    "    ('Honda', 'Civic', 'M2', 'T2', 'China'),\n",
    "    ('Ford', 'Ka', 'M1', 'T2', 'Argentina'),\n",
    "    ('Ford', 'Uno', 'M1', 'T1', 'Argentina') #este no va a estar en RDD2\n",
    "]\n",
    "\n",
    "# marca, modelo, fecha, concesionaria\n",
    "infoVentas = [\n",
    "    ('Fiat', 'Cronos', '2019-05-15', 'Santa Fe'),\n",
    "    ('Fiat', 'Cronos', '2019-03-04', 'Santa Fe'),\n",
    "    ('Fiat', 'Cronos', '2019-03-04', 'Martinez'),\n",
    "    ('Ford', 'Ka', '2019-05-29', 'Martinez'),\n",
    "    ('Fiat', 'Cronos', '2019-01-01', 'Corrientes'),\n",
    "    ('Fiat', 'Cronos', '2019-01-04', 'Santa Fe'),\n",
    "    ('Mitsubishi', 'Lancer', '2020-04-04', 'Santa Fe'),\n",
    "    ('Mitsubishi', 'Lancer', '2019-04-04', 'Corrientes'),\n",
    "    ('Toyota', 'Hilux', '2020-04-04', 'Santa Fe'),\n",
    "    ('Chevrolet', 'Onix', '2019-05-04', 'Corrientes'),\n",
    "    ('Chevrolet', 'Onix', '2019-01-04', 'Santa Fe'),\n",
    "    ('Chevrolet', 'Onix', '2019-02-04', 'Corrientes')\n",
    "]"
   ]
  },
  {
   "cell_type": "code",
   "execution_count": 5,
   "metadata": {},
   "outputs": [],
   "source": [
    "modelos = sc.parallelize(infoModelos)\n",
    "ventas  = sc.parallelize(infoVentas)"
   ]
  },
  {
   "cell_type": "code",
   "execution_count": 6,
   "metadata": {},
   "outputs": [
    {
     "data": {
      "text/plain": [
       "[('Fiat', 'Cronos', 'M1', 'T1', 'Argentina'),\n",
       " ('Mitsubishi', 'Lancer', 'M1', 'T1', 'Japon'),\n",
       " ('Toyota', 'Hilux', 'M3', 'T3', 'Argentina'),\n",
       " ('Chevrolet', 'Onix', 'M2', 'T2', 'Argentina'),\n",
       " ('Honda', 'Civic', 'M2', 'T2', 'China'),\n",
       " ('Ford', 'Ka', 'M1', 'T2', 'Argentina'),\n",
       " ('Ford', 'Uno', 'M1', 'T1', 'Argentina')]"
      ]
     },
     "execution_count": 6,
     "metadata": {},
     "output_type": "execute_result"
    }
   ],
   "source": [
    "modelos.collect()"
   ]
  },
  {
   "cell_type": "code",
   "execution_count": 7,
   "metadata": {},
   "outputs": [
    {
     "data": {
      "text/plain": [
       "[('Fiat', 'Cronos', '2019-05-15', 'Santa Fe'),\n",
       " ('Fiat', 'Cronos', '2019-03-04', 'Santa Fe'),\n",
       " ('Fiat', 'Cronos', '2019-03-04', 'Martinez'),\n",
       " ('Ford', 'Ka', '2019-05-29', 'Martinez'),\n",
       " ('Fiat', 'Cronos', '2019-01-01', 'Corrientes'),\n",
       " ('Fiat', 'Cronos', '2019-01-04', 'Santa Fe'),\n",
       " ('Mitsubishi', 'Lancer', '2020-04-04', 'Santa Fe'),\n",
       " ('Mitsubishi', 'Lancer', '2019-04-04', 'Corrientes'),\n",
       " ('Toyota', 'Hilux', '2020-04-04', 'Santa Fe'),\n",
       " ('Chevrolet', 'Onix', '2019-05-04', 'Corrientes'),\n",
       " ('Chevrolet', 'Onix', '2019-01-04', 'Santa Fe'),\n",
       " ('Chevrolet', 'Onix', '2019-02-04', 'Corrientes')]"
      ]
     },
     "execution_count": 7,
     "metadata": {},
     "output_type": "execute_result"
    }
   ],
   "source": [
    "ventas.collect()"
   ]
  },
  {
   "cell_type": "code",
   "execution_count": 8,
   "metadata": {},
   "outputs": [
    {
     "data": {
      "text/plain": [
       "[('Fiat', 'Cronos', 'M1', 'T1', 'Argentina'),\n",
       " ('Toyota', 'Hilux', 'M3', 'T3', 'Argentina'),\n",
       " ('Chevrolet', 'Onix', 'M2', 'T2', 'Argentina'),\n",
       " ('Ford', 'Ka', 'M1', 'T2', 'Argentina'),\n",
       " ('Ford', 'Uno', 'M1', 'T1', 'Argentina')]"
      ]
     },
     "execution_count": 8,
     "metadata": {},
     "output_type": "execute_result"
    }
   ],
   "source": [
    "#filtro modelos de origen nacional\n",
    "modelos = modelos.filter(lambda x: x[4] == 'Argentina')\n",
    "modelos.collect()"
   ]
  },
  {
   "cell_type": "code",
   "execution_count": 9,
   "metadata": {},
   "outputs": [
    {
     "data": {
      "text/plain": [
       "[(('Ford', 'Ka'), (1, '2019-05-29')),\n",
       " (('Toyota', 'Hilux'), (1, '2020-04-04')),\n",
       " (('Fiat', 'Cronos'), (1, '2019-05-15')),\n",
       " (('Fiat', 'Cronos'), (1, '2019-03-04')),\n",
       " (('Fiat', 'Cronos'), (1, '2019-03-04')),\n",
       " (('Fiat', 'Cronos'), (1, '2019-01-01')),\n",
       " (('Fiat', 'Cronos'), (1, '2019-01-04')),\n",
       " (('Chevrolet', 'Onix'), (1, '2019-05-04')),\n",
       " (('Chevrolet', 'Onix'), (1, '2019-01-04')),\n",
       " (('Chevrolet', 'Onix'), (1, '2019-02-04'))]"
      ]
     },
     "execution_count": 9,
     "metadata": {},
     "output_type": "execute_result"
    }
   ],
   "source": [
    "# cuales son los modelos que ya se discontinuaron\n",
    "# (un modelo discontinuado es aquel que no tuvo ventas en los ultimos 12 meses), obteniendo un nuevo RDD\n",
    "# con (marca, modelo, total_vendido, fecha_inicio_venta, fecha_discontinuacion), donde la fecha de\n",
    "# discontinuacion es la fecha cuando se vendio el ultimo auto de ese modelo\n",
    "\n",
    "#primero hago join para quedarme con las ventas de autos de origen nacional\n",
    "#antes del join mapeo poniendo marca y modelo como clave\n",
    "\n",
    "modelos = modelos.map(lambda x: ((x[0],x[1]),1))\n",
    "ventas  = ventas.map(lambda x: ((x[0],x[1]),x[2]))\n",
    "\n",
    "modelosNacionales = modelos.join(ventas)\n",
    "modelosNacionales.collect()"
   ]
  },
  {
   "cell_type": "code",
   "execution_count": 13,
   "metadata": {},
   "outputs": [
    {
     "data": {
      "text/plain": [
       "[('Fiat', 'Cronos', 5, '2019-01-01', '2019-01-04'),\n",
       " ('Chevrolet', 'Onix', 3, '2019-01-04', '2019-02-04'),\n",
       " ('Ford', 'Ka', 1, '2019-05-29', '2019-05-29')]"
      ]
     },
     "execution_count": 13,
     "metadata": {},
     "output_type": "execute_result"
    }
   ],
   "source": [
    "modelosNacionales.reduceByKey(lambda x,y: (x[0]+y[0], x[1], y[1]) if x[1]<y[1] else (x[0]+y[0], y[1], x[1]))\\\n",
    ".filter(lambda x: x[1][-1]<='2019-06-10')\\\n",
    ".map(lambda x: (x[0][0],x[0][1],x[1][0],x[1][1],x[1][2]) if len(x[1])==3 else (x[0][0],x[0][1],x[1][0],x[1][1],x[1][1]))\\\n",
    ".sortBy(lambda x:-x[2])\\\n",
    ".collect()"
   ]
  },
  {
   "cell_type": "code",
   "execution_count": null,
   "metadata": {},
   "outputs": [],
   "source": []
  }
 ],
 "metadata": {
  "kernelspec": {
   "display_name": "Python 3",
   "language": "python",
   "name": "python3"
  },
  "language_info": {
   "codemirror_mode": {
    "name": "ipython",
    "version": 3
   },
   "file_extension": ".py",
   "mimetype": "text/x-python",
   "name": "python",
   "nbconvert_exporter": "python",
   "pygments_lexer": "ipython3",
   "version": "3.7.4"
  }
 },
 "nbformat": 4,
 "nbformat_minor": 2
}
