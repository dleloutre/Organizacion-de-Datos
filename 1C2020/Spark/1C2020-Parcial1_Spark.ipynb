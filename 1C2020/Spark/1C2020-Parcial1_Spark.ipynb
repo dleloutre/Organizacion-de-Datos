{
 "cells": [
  {
   "cell_type": "code",
   "execution_count": 1,
   "metadata": {},
   "outputs": [],
   "source": [
    "import pyspark"
   ]
  },
  {
   "cell_type": "markdown",
   "metadata": {},
   "source": [
    "DadolosacontecimientosenUSA,deseamosobtenerdatosquenosdenmayorinformaciónsobrelasmuertesdepersonasderazanegra por parte de oficiales de policía.Paraello,tenemosuncsvconinformaciónsobrelasmuertesporparte de oficiales de policía en USA desde 2015 hasta 2017:\n",
    "(name, date, race, city, state)\n",
    "Y otro csv con información sobre el porcentaje de cada raza en las ciudades de USA:\n",
    "(state,city,share_white,share_black,share_native_american,share_asian,share_hispanic)\n",
    "\n",
    "Se pide:\n",
    "\n",
    "a)Obtener el estado con mayor porcentaje de muertes de personas de raza negra teniendo en cuenta la cantidad total de muertes por parte de oficiales en ese estado. "
   ]
  },
  {
   "cell_type": "code",
   "execution_count": 25,
   "metadata": {},
   "outputs": [],
   "source": [
    "# (name, date, race, city, state)\n",
    "muertes = [\n",
    "    ('Name1', 'date1', 'black', 'city1', 'state1'),\n",
    "    ('Name2', 'date2', 'black', 'city1', 'state1'),\n",
    "    ('Name3', 'date3', 'black', 'city1', 'state1'),\n",
    "    ('Name4', 'date4', 'black', 'city1', 'state1'),\n",
    "    ('Name5', 'date1', 'black', 'city2', 'state1'),\n",
    "    ('Name6', 'date2', 'hispanic', 'city3', 'state2'),\n",
    "    ('Name7', 'date3', 'black', 'city31', 'state2'),\n",
    "    ('Name8', 'date4', 'hispanic', 'city38', 'state1'),\n",
    "    ('Name9', 'date5', 'black', 'city49', 'state3'),\n",
    "    ('Name10', 'date6', 'hispanic', 'city43', 'state4'),\n",
    "    ('Name11', 'date1', 'black', 'city11', 'state5'),\n",
    "    ('Name12', 'date2', 'black', 'city12', 'state5'),\n",
    "    ('Name13', 'date3', 'asian', 'city12', 'state5'),\n",
    "    ('Name14', 'date4', 'white', 'city13', 'state5'),\n",
    "    ('Name15', 'date1', 'white', 'city20', 'state6'),\n",
    "    ('Name16', 'date2', 'hispanic', 'city33', 'state7'),\n",
    "    ('Name17', 'date3', 'black', 'city30', 'state8'),\n",
    "    ('Name18', 'date4', 'black', 'city31', 'state8'),\n",
    "    ('Name19', 'date5', 'black', 'city44', 'state9'),\n",
    "    ('Name20', 'date6', 'black', 'city49', 'state10')\n",
    "]\n",
    "\n",
    "#(state, city, share_white, share_black, share_native_american, share_asian, share_hispanic)\n",
    "porcentajeRacialPorCiudad = [\n",
    "    ('state1', 'city1', 30, 40, 20, 5, 5),\n",
    "    ('state1', 'city2', 5, 20, 40, 5, 5),\n",
    "    ('state1', 'city28', 20, 5, 3, 2, 70),\n",
    "    ('state2', 'city3', 5, 30, 40, 20, 5),\n",
    "    ('state2', 'city31', 3, 2, 30, 40, 25),\n",
    "    ('state3', 'city49', 30, 20, 2, 3, 45),\n",
    "    ('state4', 'city43', 5, 20, 40, 5, 30),\n",
    "    ('state5', 'city11', 2, 2, 6, 20, 70),\n",
    "    ('state5', 'city12', 2, 5, 3, 40, 50),\n",
    "    ('state5', 'city13', 20, 5, 3, 2, 70),\n",
    "    ('state6', 'city20', 5, 20, 40, 5, 30),\n",
    "    ('state7', 'city33', 40, 5, 2, 3, 50),\n",
    "    ('state8', 'city30', 50, 40, 1, 1, 8),\n",
    "    ('state8', 'city31', 2, 2, 6, 20, 70),\n",
    "    ('state9', 'city44', 2, 5, 3, 40, 50),\n",
    "    ('state10', 'city49', 40, 5, 2, 3, 50)\n",
    "] "
   ]
  },
  {
   "cell_type": "code",
   "execution_count": 26,
   "metadata": {},
   "outputs": [],
   "source": [
    "muertesRdd = sc.parallelize(muertes)\n",
    "ciudadRazasRdd = sc.parallelize(porcentajeRacialPorCiudad)"
   ]
  },
  {
   "cell_type": "code",
   "execution_count": 12,
   "metadata": {},
   "outputs": [],
   "source": [
    "# mapeo tal que quede el estado como clave y como valores: 2 contadores (uno para las muertes de raza negra y \n",
    "# otro para las muertes totales) y la raza\n",
    "\n",
    "#def sumDeaths(x,y):\n",
    "#    if ((x[2] == 'black') & (y[2]=='black')):\n",
    "#        return (x[0]+y[0],x[1]+y[1],x[2])\n",
    "\n",
    "#muertes1 = muertesRdd.map(lambda x: (x[4], (1,1, x[2])))\n",
    "\n",
    "#muertes1.collect()"
   ]
  },
  {
   "cell_type": "code",
   "execution_count": 15,
   "metadata": {},
   "outputs": [
    {
     "data": {
      "text/plain": [
       "[('state10', 1),\n",
       " ('state8', 2),\n",
       " ('state9', 1),\n",
       " ('state5', 2),\n",
       " ('state1', 5),\n",
       " ('state2', 1),\n",
       " ('state3', 1)]"
      ]
     },
     "execution_count": 15,
     "metadata": {},
     "output_type": "execute_result"
    }
   ],
   "source": [
    "# armo un rdd con las muertes de raza negra y los agrupo por estado para contarlos, para eso agrego un contador\n",
    "# en el ultimo valor del map y luego sumo en el reduceByKey\n",
    "blackDeaths = muertesRdd.filter(lambda x: x[2] == 'black')\\\n",
    ".map(lambda x: (x[4], 1))\\\n",
    ".reduceByKey(lambda x,y: x+y)\n",
    "\n",
    "blackDeaths.collect()"
   ]
  },
  {
   "cell_type": "code",
   "execution_count": 18,
   "metadata": {},
   "outputs": [
    {
     "data": {
      "text/plain": [
       "[('state4', 1),\n",
       " ('state10', 1),\n",
       " ('state6', 1),\n",
       " ('state7', 1),\n",
       " ('state8', 2),\n",
       " ('state9', 1),\n",
       " ('state5', 4),\n",
       " ('state1', 6),\n",
       " ('state2', 2),\n",
       " ('state3', 1)]"
      ]
     },
     "execution_count": 18,
     "metadata": {},
     "output_type": "execute_result"
    }
   ],
   "source": [
    "# sobre el rdd original hago un map asignando al estado como clave y un contador para obtener la cantidad total\n",
    "# de muertes\n",
    "deaths = muertesRdd.map(lambda x: (x[4], 1))\\\n",
    ".reduceByKey(lambda x,y: x+y)\n",
    "\n",
    "deaths.collect()"
   ]
  },
  {
   "cell_type": "code",
   "execution_count": 19,
   "metadata": {},
   "outputs": [
    {
     "data": {
      "text/plain": [
       "[('state10', (1, 1)),\n",
       " ('state4', (None, 1)),\n",
       " ('state6', (None, 1)),\n",
       " ('state8', (2, 2)),\n",
       " ('state9', (1, 1)),\n",
       " ('state7', (None, 1)),\n",
       " ('state5', (2, 4)),\n",
       " ('state1', (5, 6)),\n",
       " ('state2', (1, 2)),\n",
       " ('state3', (1, 1))]"
      ]
     },
     "execution_count": 19,
     "metadata": {},
     "output_type": "execute_result"
    }
   ],
   "source": [
    "# hago un right join por estado y luego un map para poder calcular el porcentaje de muertes de raza negra por estado\n",
    "comparativa = blackDeaths.rightOuterJoin(deaths)\n",
    "comparativa.collect()"
   ]
  },
  {
   "cell_type": "code",
   "execution_count": 32,
   "metadata": {},
   "outputs": [
    {
     "data": {
      "text/plain": [
       "[('state10', 100.0),\n",
       " ('state4', 0),\n",
       " ('state6', 0),\n",
       " ('state8', 100.0),\n",
       " ('state9', 100.0),\n",
       " ('state7', 0),\n",
       " ('state5', 50.0),\n",
       " ('state1', 83.33333333333334),\n",
       " ('state2', 50.0),\n",
       " ('state3', 100.0)]"
      ]
     },
     "execution_count": 32,
     "metadata": {},
     "output_type": "execute_result"
    }
   ],
   "source": [
    "# a la izquierda quedo la cantidad de muertes personas de raza negra (si es None reemplazo con 0) y  a la derecha\n",
    "# la cantidad total de muertes [por estado]\n",
    "\n",
    "porcentaje = comparativa.map(lambda x: (x[0], 0) if (x[1][0] is None) else (x[0], x[1][0]/x[1][1]*100))\n",
    "porcentaje.collect()"
   ]
  },
  {
   "cell_type": "code",
   "execution_count": 24,
   "metadata": {},
   "outputs": [
    {
     "data": {
      "text/plain": [
       "[('state10', 1.0)]"
      ]
     },
     "execution_count": 24,
     "metadata": {},
     "output_type": "execute_result"
    }
   ],
   "source": [
    "# para obtener el estado con mayor porcentaje hago takeOrdered\n",
    "\n",
    "porcentaje.takeOrdered(1, lambda x: -x[1])"
   ]
  },
  {
   "cell_type": "markdown",
   "metadata": {},
   "source": [
    "b ) Obtener los 10 estados con mayor diferencia entre el porcentaje de muertes y el porcentaje de gente de raza negra en ese estado. Para ello, considerar el porcentaje de raza de un estado como el promedio de los valores de sus ciudades. Por ejemplo si en Texas el porcentaje de muertes de personas de raza negra por parte de la policía es del 36% y el promedio de share_black para Texas es 24% la diferencia es 0.12."
   ]
  },
  {
   "cell_type": "code",
   "execution_count": 30,
   "metadata": {},
   "outputs": [
    {
     "data": {
      "text/plain": [
       "[('state4', 20.0),\n",
       " ('state10', 5.0),\n",
       " ('state6', 20.0),\n",
       " ('state7', 5.0),\n",
       " ('state8', 21.0),\n",
       " ('state9', 5.0),\n",
       " ('state5', 4.0),\n",
       " ('state1', 21.666666666666668),\n",
       " ('state2', 16.0),\n",
       " ('state3', 20.0)]"
      ]
     },
     "execution_count": 30,
     "metadata": {},
     "output_type": "execute_result"
    }
   ],
   "source": [
    "# necesito el promedio de porcentaje de raza negra por estado, para eso mapeo poniendo el estado como clave y \n",
    "# como valor pongo un contador y el porcentaje de raza negra\n",
    "# luego hago reduceByKey para sumar los porcentajes y las cantidades\n",
    "# y por ultimo un map para calcular el promedio\n",
    "promedioRazaNegra = ciudadRazasRdd.map(lambda x: (x[0], (1, x[3])))\\\n",
    ".reduceByKey(lambda x,y: (x[0]+y[0], x[1]+y[1]))\\\n",
    ".map(lambda x: (x[0], x[1][1]/x[1][0]))\n",
    "\n",
    "promedioRazaNegra.collect()"
   ]
  },
  {
   "cell_type": "code",
   "execution_count": 36,
   "metadata": {},
   "outputs": [
    {
     "data": {
      "text/plain": [
       "[('state4', 20.0),\n",
       " ('state10', 95.0),\n",
       " ('state6', 20.0),\n",
       " ('state7', 5.0),\n",
       " ('state8', 79.0),\n",
       " ('state9', 95.0),\n",
       " ('state5', 46.0),\n",
       " ('state3', 80.0),\n",
       " ('state1', 61.66666666666667),\n",
       " ('state2', 34.0)]"
      ]
     },
     "execution_count": 36,
     "metadata": {},
     "output_type": "execute_result"
    }
   ],
   "source": [
    "# hago un join con el rdd que calcule previamente con los porcentajes de muertes de personas de raza negra\n",
    "# para comparar la diferencia porcentual\n",
    "# luego hago un map para evaluar la diferencia porcentual\n",
    "# finalmente me quedo con los diez con mayor diferencia\n",
    "\n",
    "comparacionPorcentual = promedioRazaNegra.join(porcentaje)\\\n",
    ".map(lambda x: (x[0], abs(x[1][0]-x[1][1])))\n",
    "\n",
    "comparacionPorcentual.collect()"
   ]
  },
  {
   "cell_type": "code",
   "execution_count": 37,
   "metadata": {},
   "outputs": [
    {
     "data": {
      "text/plain": [
       "[('state10', 95.0),\n",
       " ('state9', 95.0),\n",
       " ('state3', 80.0),\n",
       " ('state8', 79.0),\n",
       " ('state1', 61.66666666666667),\n",
       " ('state5', 46.0),\n",
       " ('state2', 34.0),\n",
       " ('state4', 20.0),\n",
       " ('state6', 20.0),\n",
       " ('state7', 5.0)]"
      ]
     },
     "execution_count": 37,
     "metadata": {},
     "output_type": "execute_result"
    }
   ],
   "source": [
    "comparacionPorcentual.takeOrdered(10, lambda x: -x[1])"
   ]
  }
 ],
 "metadata": {
  "kernelspec": {
   "display_name": "Python 3",
   "language": "python",
   "name": "python3"
  },
  "language_info": {
   "codemirror_mode": {
    "name": "ipython",
    "version": 3
   },
   "file_extension": ".py",
   "mimetype": "text/x-python",
   "name": "python",
   "nbconvert_exporter": "python",
   "pygments_lexer": "ipython3",
   "version": "3.7.4"
  }
 },
 "nbformat": 4,
 "nbformat_minor": 2
}
