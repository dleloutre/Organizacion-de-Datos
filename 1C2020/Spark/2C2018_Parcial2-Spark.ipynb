{
 "cells": [
  {
   "cell_type": "code",
   "execution_count": 1,
   "metadata": {},
   "outputs": [],
   "source": [
    "import pyspark"
   ]
  },
  {
   "cell_type": "code",
   "execution_count": 34,
   "metadata": {},
   "outputs": [],
   "source": [
    "# (date, user_id, song_id, song_title, artist)\n",
    "canciones = [\n",
    "    ('2020-05-23',1,1,'Womanizer','Britney Spears'),\n",
    "    ('2020-05-23',2,10,'Physical','Dua Lipa'),\n",
    "    ('2020-05-23',3,1,'Womanizer','Britney Spears'),\n",
    "    ('2020-05-23',4,11,'Wrecking Ball','Miley Cyrus'),\n",
    "    ('2020-05-23',5,10,'Physical','Dua Lipa'),\n",
    "    ('2020-05-24',1,2,'Just luv me', 'Britney Spears'),\n",
    "    ('2020-05-24',2,1,'Womanizer', 'Britney Spears'),\n",
    "    ('2020-05-24',3,1,'Womanizer', 'Britney Spears'),\n",
    "    ('2020-05-24',4,1,'Womanizer', 'Britney Spears'),\n",
    "    ('2020-05-24',5,2,'Just luv me', 'Britney Spears'),\n",
    "    ('2020-05-25',1,3,'Circus','Britney Spears'),\n",
    "    ('2020-05-25',2,2,'Just luv me','Britney Spears'),\n",
    "    ('2020-05-25',3,2,'Just luv me','Britney Spears'),\n",
    "    ('2020-05-25',4,2,'Just luv me','Britney Spears'),\n",
    "    ('2020-05-25',5,3,'Circus','Britney Spears'),\n",
    "    ('2020-05-26',1,4,'Work B*tch', 'Britney Spears'),\n",
    "    ('2020-05-26',2,3,'Circus', 'Britney Spears'),\n",
    "    ('2020-05-26',3,4,'Work B*tch', 'Britney Spears'),\n",
    "    ('2020-05-26',4,3,'Circus', 'Britney Spears'),\n",
    "    ('2020-05-26',5,4,'Work B*tch', 'Britney Spears')\n",
    "]\n",
    "\n",
    "# (song_id, tag)\n",
    "tags = [\n",
    "    (1,'pop'),\n",
    "    (2,'acoustic'),\n",
    "    (10,'actual'),\n",
    "    (10,'pop'),\n",
    "    (1,'britney spears'),\n",
    "    (10,'top10'),\n",
    "    (2,'britney spears'),\n",
    "    (11,'2010s'),\n",
    "    (10,'rising'),\n",
    "    (3,'pop'),\n",
    "    (3,'2010s'),\n",
    "    (4,'pop'),\n",
    "    (4,'britney spears'),\n",
    "    (4,'2010s')\n",
    "]"
   ]
  },
  {
   "cell_type": "markdown",
   "metadata": {},
   "source": [
    "Spotify cuenta con un log de todas las canciones que fueron escuchadas en su  plataforma,  esta  información  se  encuentra  en  un RDD  que  está paralelizado por día, es decir cada día es una partición. Los campos del RDD son los siguientes: (date, user_id, song_id, song_title, artist).\n",
    "Se cuenta por otro lado con un RDD que asigna \"tags\" a las canciones, por ejemplo \"rock, punk, actual, top-10, acoustic, etc). Una canción puede tener asociados \"n\" tags. El RDD tiene el formato (song_id, tag). \n",
    "Cada día se corre un proceso para asignar el tag \"rising\" a las canciones que se escucharon mas veces el día de hoy que el día de ayer. Estos nuevos tags pasan  a  formar  parte  del  RDD  de  tags  para  futuros  usos.  Programar  en PySpark usando el API de RDD lo solicitado."
   ]
  },
  {
   "cell_type": "code",
   "execution_count": 35,
   "metadata": {},
   "outputs": [],
   "source": [
    "cancionesRdd = sc.parallelize(canciones)\n",
    "tagsRdd = sc.parallelize(tags)"
   ]
  },
  {
   "cell_type": "code",
   "execution_count": 43,
   "metadata": {},
   "outputs": [
    {
     "data": {
      "text/plain": [
       "[((1, '2020-05-23'), 1),\n",
       " ((10, '2020-05-23'), 1),\n",
       " ((1, '2020-05-23'), 1),\n",
       " ((11, '2020-05-23'), 1),\n",
       " ((10, '2020-05-23'), 1),\n",
       " ((2, '2020-05-24'), 1),\n",
       " ((1, '2020-05-24'), 1),\n",
       " ((1, '2020-05-24'), 1),\n",
       " ((1, '2020-05-24'), 1),\n",
       " ((2, '2020-05-24'), 1),\n",
       " ((3, '2020-05-25'), 1),\n",
       " ((2, '2020-05-25'), 1),\n",
       " ((2, '2020-05-25'), 1),\n",
       " ((2, '2020-05-25'), 1),\n",
       " ((3, '2020-05-25'), 1),\n",
       " ((4, '2020-05-26'), 1),\n",
       " ((3, '2020-05-26'), 1),\n",
       " ((4, '2020-05-26'), 1),\n",
       " ((3, '2020-05-26'), 1),\n",
       " ((4, '2020-05-26'), 1)]"
      ]
     },
     "execution_count": 43,
     "metadata": {},
     "output_type": "execute_result"
    }
   ],
   "source": [
    "# mapeo rdd de canciones tal que quede ((song_id, fecha),contador)\n",
    "cancionesRddMapped = cancionesRdd.map(lambda x:((x[2],x[0]),1))\n",
    "cancionesRddMapped.collect()"
   ]
  },
  {
   "cell_type": "code",
   "execution_count": 44,
   "metadata": {},
   "outputs": [
    {
     "data": {
      "text/plain": [
       "[((3, '2020-05-25'), 2),\n",
       " ((1, '2020-05-23'), 2),\n",
       " ((2, '2020-05-25'), 3),\n",
       " ((4, '2020-05-26'), 3),\n",
       " ((11, '2020-05-23'), 1),\n",
       " ((2, '2020-05-24'), 2),\n",
       " ((10, '2020-05-23'), 2),\n",
       " ((3, '2020-05-26'), 2),\n",
       " ((1, '2020-05-24'), 3)]"
      ]
     },
     "execution_count": 44,
     "metadata": {},
     "output_type": "execute_result"
    }
   ],
   "source": [
    "cancionesRddReduced = cancionesRddMapped.reduceByKey(lambda x,y: x+y)\n",
    "cancionesRddReduced.collect()"
   ]
  },
  {
   "cell_type": "code",
   "execution_count": 47,
   "metadata": {},
   "outputs": [
    {
     "data": {
      "text/plain": [
       "[((1, '2020-05-22'), 1),\n",
       " ((10, '2020-05-22'), 1),\n",
       " ((1, '2020-05-22'), 1),\n",
       " ((11, '2020-05-22'), 1),\n",
       " ((10, '2020-05-22'), 1),\n",
       " ((2, '2020-05-23'), 1),\n",
       " ((1, '2020-05-23'), 1),\n",
       " ((1, '2020-05-23'), 1),\n",
       " ((1, '2020-05-23'), 1),\n",
       " ((2, '2020-05-23'), 1),\n",
       " ((3, '2020-05-24'), 1),\n",
       " ((2, '2020-05-24'), 1),\n",
       " ((2, '2020-05-24'), 1),\n",
       " ((2, '2020-05-24'), 1),\n",
       " ((3, '2020-05-24'), 1),\n",
       " ((4, '2020-05-25'), 1),\n",
       " ((3, '2020-05-25'), 1),\n",
       " ((4, '2020-05-25'), 1),\n",
       " ((3, '2020-05-25'), 1),\n",
       " ((4, '2020-05-25'), 1)]"
      ]
     },
     "execution_count": 47,
     "metadata": {},
     "output_type": "execute_result"
    }
   ],
   "source": [
    "# armo otro rdd de canciones donde fecha sea el dia anterior\n",
    "\n",
    "def getDayBefore(x):\n",
    "    list1 = ['02','04','06','09','11']\n",
    "    list2 = ['01','05','07','08','10','12']\n",
    "    ogDate = x[0].split('-')\n",
    "    if ((ogDate[2] == '01') & (ogDate[1] in list1)):\n",
    "        day = '31'\n",
    "        month = str(int(ogDate[1])-1)\n",
    "    elif ((ogDate[2] == '01') & (ogDate[1] in list2)):\n",
    "        day = '30'\n",
    "        month = str(int(ogDate[1])-1)\n",
    "    elif ((ogDate[2] == '01') & (ogDate[1] == '03')):\n",
    "        day = '28'\n",
    "        month = str(int(ogDate[1])-1)\n",
    "    else:\n",
    "        day = str(int(ogDate[2]) - 1)\n",
    "        month = ogDate[1]\n",
    "\n",
    "    if ((ogDate[1] == '01') & (ogDate[2] == '01')):\n",
    "        month = '12'\n",
    "        year = str(int(ogDate[0])-1)\n",
    "    else:\n",
    "        year = ogDate[0]\n",
    "        \n",
    "    dayBefore = year+'-'+month+'-'+day\n",
    "    return ((x[2], dayBefore),1)\n",
    "\n",
    "cancionesRddDiaAnterior = cancionesRdd.map(getDayBefore)\n",
    "cancionesRddDiaAnterior.collect()"
   ]
  },
  {
   "cell_type": "code",
   "execution_count": 48,
   "metadata": {},
   "outputs": [
    {
     "data": {
      "text/plain": [
       "[((3, '2020-05-25'), 2),\n",
       " ((1, '2020-05-22'), 2),\n",
       " ((1, '2020-05-23'), 3),\n",
       " ((11, '2020-05-22'), 1),\n",
       " ((4, '2020-05-25'), 3),\n",
       " ((2, '2020-05-24'), 3),\n",
       " ((3, '2020-05-24'), 2),\n",
       " ((10, '2020-05-22'), 2),\n",
       " ((2, '2020-05-23'), 2)]"
      ]
     },
     "execution_count": 48,
     "metadata": {},
     "output_type": "execute_result"
    }
   ],
   "source": [
    "cancionesRddAnt = cancionesRddDiaAnterior.reduceByKey(lambda x,y:x+y)\n",
    "cancionesRddAnt.collect()"
   ]
  },
  {
   "cell_type": "code",
   "execution_count": 49,
   "metadata": {},
   "outputs": [
    {
     "data": {
      "text/plain": [
       "[((3, '2020-05-25'), (2, 2)),\n",
       " ((1, '2020-05-23'), (2, 3)),\n",
       " ((2, '2020-05-24'), (2, 3))]"
      ]
     },
     "execution_count": 49,
     "metadata": {},
     "output_type": "execute_result"
    }
   ],
   "source": [
    "joined = cancionesRddReduced.join(cancionesRddAnt)\n",
    "joined.collect()"
   ]
  },
  {
   "cell_type": "code",
   "execution_count": 52,
   "metadata": {},
   "outputs": [
    {
     "data": {
      "text/plain": [
       "[(1, 'rising'), (2, 'rising')]"
      ]
     },
     "execution_count": 52,
     "metadata": {},
     "output_type": "execute_result"
    }
   ],
   "source": [
    "risingSongs = joined.filter(lambda x: x[1][1]>x[1][0]).map(lambda x: (x[0][0],'rising'))\n",
    "risingSongs.collect()"
   ]
  },
  {
   "cell_type": "code",
   "execution_count": 71,
   "metadata": {},
   "outputs": [
    {
     "data": {
      "text/plain": [
       "[(1, 'pop'),\n",
       " (1, 'rising'),\n",
       " (1, 'britney spears'),\n",
       " (1, 'rising'),\n",
       " (2, 'acoustic'),\n",
       " (2, 'rising'),\n",
       " (2, 'britney spears'),\n",
       " (2, 'rising'),\n",
       " (3, 'pop'),\n",
       " (3, '2010s'),\n",
       " (4, 'pop'),\n",
       " (4, 'britney spears'),\n",
       " (4, '2010s'),\n",
       " (10, 'actual'),\n",
       " (10, 'pop'),\n",
       " (10, 'top10'),\n",
       " (10, 'rising'),\n",
       " (11, '2010s')]"
      ]
     },
     "execution_count": 71,
     "metadata": {},
     "output_type": "execute_result"
    }
   ],
   "source": [
    "updatedTags = tagsRdd.leftOuterJoin(risingSongs)\\\n",
    ".flatMap(lambda x: [(x[0], tag) for tag in x[1]])\\\n",
    ".filter(lambda x: x[1] is not None)\n",
    "updatedTags.collect()"
   ]
  }
 ],
 "metadata": {
  "kernelspec": {
   "display_name": "Python 3",
   "language": "python",
   "name": "python3"
  },
  "language_info": {
   "codemirror_mode": {
    "name": "ipython",
    "version": 3
   },
   "file_extension": ".py",
   "mimetype": "text/x-python",
   "name": "python",
   "nbconvert_exporter": "python",
   "pygments_lexer": "ipython3",
   "version": "3.7.4"
  }
 },
 "nbformat": 4,
 "nbformat_minor": 2
}
