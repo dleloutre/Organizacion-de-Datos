{
 "cells": [
  {
   "cell_type": "markdown",
   "metadata": {},
   "source": [
    "La empresa Instagram almacena información de usuarios en un RDD de la forma (id_usuario,nickname,pais,fecha_alta) y en otro RDD almacena información de las publicaciones como (id_publicacion, id_usuario,id_foto,comentario,fecha)\n",
    "\n",
    "a) Encontrar el top 10 de hashtags que más aparecen y que fueron publicados únicamente por usuarios de Argentina.\n",
    "\n",
    "b) Construir y cachear un RDD con los pares de usuarios (usuario_1,usuario_2) que tienen hashtags publicados en común."
   ]
  },
  {
   "cell_type": "code",
   "execution_count": 18,
   "metadata": {},
   "outputs": [],
   "source": [
    "import pyspark\n",
    "import re"
   ]
  },
  {
   "cell_type": "code",
   "execution_count": 117,
   "metadata": {},
   "outputs": [],
   "source": [
    "posts = [(16747,9838,116,'Every man #chabon has his price','2019/03/11'),\n",
    "(36922,1438,126,'Youve got to #locura ask yourself one question Do I feel lucky? Well do ya punk','2019/03/29'),\n",
    "(11386,1592,108,'Like two peas #locura #chabon in a pod','2019/01/28'),\n",
    "(39223,1082,137,'Dont put the cart before the horse','2019/03/02'),\n",
    "(8296,2639,106,'Nostalgia isnt what it used to be','2019/03/02'),\n",
    "(16116,3829,137,'Shes drop dead #chabon gorgeous','2019/01/11'),\n",
    "(20129,7677,146,'Too many #dromedario cooks spoil the broth','2019/01/04'),\n",
    "(44960,8276,140,'If you cant beat them, join them','2019/01/28'),\n",
    "(6832,3536,148,'I like turtles','2019/01/11'),\n",
    "(44692,6709,150,'Ask no questions and hear no lies','2019/02/27'),\n",
    "(12374,1328,122,'A bird in the #locura hand is #chabon worth two in the bush','2019/03/01'),\n",
    "(50730,3964,148,'Youll #dromedario poke your eye out','2019/01/09'),\n",
    "(47049,1880,122,'You can #bobsponge lead a horse #chabon to water but you cant make him drink','2019/02/16'),\n",
    "(6320,5624,127,'Two heads are better than one','2019/01/23'),\n",
    "(37911,1444,132,'Im going to make #chabon him an offer he cant refuse','2019/02/17'),\n",
    "(44080,4014,113,'A sight for sore eyes','2019/02/12'),\n",
    "(57898,5635,118,'Theres #bobsponge no place #dromedario like home','2019/01/01'),\n",
    "(10721,5123,142,'Absence #dromedario makes the heart #locura grow fonder','2019/01/24'),\n",
    "(57053,6084,116,'Youre barking up the wrong tree','2019/02/01'),\n",
    "(11695,2885,141,'Old habits die hard','2019/02/07'),\n",
    "(22564,6943,145,'No pain no gain','2019/03/09'),\n",
    "(21307,1813,136,'Variety is the spice of #chabon #locura life','2019/03/10'),\n",
    "(49413,1554,103,'Would you jump off #bobsponge a bridge if all your friends were doing it','2019/03/13'),\n",
    "(55044,3591,129,'A friend in need is a friend indeed','2019/04/01'),\n",
    "(38938,8740,137,'Dont cry over spilled milk','2019/01/01'),\n",
    "(31140,9651,106,'The needs of the #bobsponge many #dromedario outweigh the needs #locura of the few','2019/02/05'),\n",
    "(44856,6027,136,'Because I said so, thats #dromedario why','2019/03/13'),\n",
    "(4517,9673,103,'The Tribe has spoken','2019/02/15'),\n",
    "(28579,4650,150,'The pen is mightier #bobsponge than the sword','2019/01/18'),\n",
    "(52683,6501,119,'Leave well enough #dromedario alone','2019/01/20')]\n",
    "\n",
    "users = [\n",
    "    (9838,'Raindrop','argentina','5/14/2018'),\n",
    "    (1438,'Admiral','uruguay','9/24/2018'),\n",
    "    (1592,'Mustache','uruguay','7/7/2018'),\n",
    "    (1082,'Bean','argentina','2/9/2018'),\n",
    "    (2639,'Fatty','uruguay','4/18/2018'),\n",
    "    (3829,'Queenie','uruguay','1/23/2018'),\n",
    "    (7677,'Sugar','argentina','8/7/2018'),\n",
    "    (8276,'Righty','argentina','10/10/2018'),\n",
    "    (3536,'Fellow','argentina','9/3/2018'),\n",
    "    (6709,'Dearest','argentina','8/6/2018'),\n",
    "    (1328,'Salt','uruguay','5/11/2018'),\n",
    "    (3964,'Belch','argentina','8/28/2018'),\n",
    "    (1880,'Boo Bear','uruguay','5/23/2018'),\n",
    "    (5624,'Bello','argentina','2/6/2018'),\n",
    "    (1444,'Chain','argentina','11/1/2018'),\n",
    "    (4014,'Doc','argentina','7/4/2018'),\n",
    "    (5635,'Dirty Harry','argentina','4/5/2018'),\n",
    "    (5123,'Jackrabbit','argentina','5/31/2018'),\n",
    "    (6084,'Foxy','uruguay','11/4/2018'),\n",
    "    (2885,'Cruella','argentina','11/25/2018'),\n",
    "    (6943,'Guy','uruguay','10/1/2018'),\n",
    "    (1813,'Buck','chile','8/4/2018'),\n",
    "    (1554,'Peppermint','chile','2/15/2018'),\n",
    "    (3591,'Headlights','chile','1/6/2018'),\n",
    "    (8740,'Slim','chile','10/22/2018'),\n",
    "    (9651,'Skunk','chile','8/18/2018'),\n",
    "    (6027,'Blondie','chile','9/16/2018'),\n",
    "    (9673,'Bandit','argentina','4/11/2018'),\n",
    "    (4650,'Sport','argentina','11/7/2018'),\n",
    "    (6501,'Pookie','argentina','11/7/2018')\n",
    "]"
   ]
  },
  {
   "cell_type": "code",
   "execution_count": 118,
   "metadata": {},
   "outputs": [],
   "source": [
    "usersRdd = sc.parallelize(users)\n",
    "postsRdd = sc.parallelize(posts)"
   ]
  },
  {
   "cell_type": "code",
   "execution_count": 119,
   "metadata": {},
   "outputs": [
    {
     "data": {
      "text/plain": [
       "[(9838, ('#chabon', 1)),\n",
       " (1438, ('#locura', 1)),\n",
       " (1592, ('#locura', 1)),\n",
       " (1592, ('#chabon', 1)),\n",
       " (3829, ('#chabon', 1)),\n",
       " (7677, ('#dromedario', 1)),\n",
       " (1328, ('#locura', 1)),\n",
       " (1328, ('#chabon', 1)),\n",
       " (3964, ('#dromedario', 1)),\n",
       " (1880, ('#bobsponge', 1)),\n",
       " (1880, ('#chabon', 1)),\n",
       " (1444, ('#chabon', 1)),\n",
       " (5635, ('#bobsponge', 1)),\n",
       " (5635, ('#dromedario', 1)),\n",
       " (5123, ('#dromedario', 1)),\n",
       " (5123, ('#locura', 1)),\n",
       " (1813, ('#chabon', 1)),\n",
       " (1813, ('#locura', 1)),\n",
       " (1554, ('#bobsponge', 1)),\n",
       " (9651, ('#bobsponge', 1)),\n",
       " (9651, ('#dromedario', 1)),\n",
       " (9651, ('#locura', 1)),\n",
       " (6027, ('#dromedario', 1)),\n",
       " (4650, ('#bobsponge', 1)),\n",
       " (6501, ('#dromedario', 1))]"
      ]
     },
     "execution_count": 119,
     "metadata": {},
     "output_type": "execute_result"
    }
   ],
   "source": [
    "# primero \"listo\" los hashtags\n",
    "postsRdd = postsRdd.flatMap(lambda x: [(word, x[1]) for word in x[3].split()])\\\n",
    ".filter(lambda x: '#' in x[0])\\\n",
    ".map(lambda x: (x[1],(x[0],1)))\n",
    "\n",
    "postsRdd.collect()"
   ]
  },
  {
   "cell_type": "code",
   "execution_count": 120,
   "metadata": {},
   "outputs": [
    {
     "data": {
      "text/plain": [
       "[(1438, 0),\n",
       " (1592, 0),\n",
       " (2639, 0),\n",
       " (3829, 0),\n",
       " (1328, 0),\n",
       " (1880, 0),\n",
       " (6084, 0),\n",
       " (6943, 0),\n",
       " (1813, 0),\n",
       " (1554, 0),\n",
       " (3591, 0),\n",
       " (8740, 0),\n",
       " (9651, 0),\n",
       " (6027, 0)]"
      ]
     },
     "execution_count": 120,
     "metadata": {},
     "output_type": "execute_result"
    }
   ],
   "source": [
    "# me quedo con los usuarios que NO son de argentina (porque quiero los hashtags que son UNICAMENTE de argentina)\n",
    "usersRdd = usersRdd.filter(lambda x: x[2] != 'argentina')\\\n",
    ".map(lambda x: (x[0], 0))\n",
    "\n",
    "usersRdd.collect()"
   ]
  },
  {
   "cell_type": "code",
   "execution_count": 121,
   "metadata": {},
   "outputs": [
    {
     "data": {
      "text/plain": [
       "[(1328, (0, ('#locura', 1))),\n",
       " (1328, (0, ('#chabon', 1))),\n",
       " (1554, (0, ('#bobsponge', 1))),\n",
       " (9651, (0, ('#bobsponge', 1))),\n",
       " (9651, (0, ('#dromedario', 1))),\n",
       " (9651, (0, ('#locura', 1))),\n",
       " (3829, (0, ('#chabon', 1))),\n",
       " (1813, (0, ('#chabon', 1))),\n",
       " (1813, (0, ('#locura', 1))),\n",
       " (1592, (0, ('#locura', 1))),\n",
       " (1592, (0, ('#chabon', 1))),\n",
       " (1880, (0, ('#bobsponge', 1))),\n",
       " (1880, (0, ('#chabon', 1))),\n",
       " (6027, (0, ('#dromedario', 1))),\n",
       " (1438, (0, ('#locura', 1)))]"
      ]
     },
     "execution_count": 121,
     "metadata": {},
     "output_type": "execute_result"
    }
   ],
   "source": [
    "hashtagsInvalidos = usersRdd.join(postsRdd).collect()\n",
    "hashtagsInvalidos"
   ]
  },
  {
   "cell_type": "code",
   "execution_count": 122,
   "metadata": {},
   "outputs": [
    {
     "data": {
      "text/plain": [
       "[('#locura', 1),\n",
       " ('#chabon', 1),\n",
       " ('#bobsponge', 1),\n",
       " ('#bobsponge', 1),\n",
       " ('#dromedario', 1),\n",
       " ('#locura', 1),\n",
       " ('#chabon', 1),\n",
       " ('#chabon', 1),\n",
       " ('#locura', 1),\n",
       " ('#locura', 1),\n",
       " ('#chabon', 1),\n",
       " ('#bobsponge', 1),\n",
       " ('#chabon', 1),\n",
       " ('#dromedario', 1),\n",
       " ('#locura', 1)]"
      ]
     },
     "execution_count": 122,
     "metadata": {},
     "output_type": "execute_result"
    }
   ],
   "source": [
    "hashtagsInvalidos = [x[1][1] for x in hashtagsInvalidos]\n",
    "hashtagsInvalidos"
   ]
  },
  {
   "cell_type": "code",
   "execution_count": 131,
   "metadata": {},
   "outputs": [
    {
     "data": {
      "text/plain": [
       "[]"
      ]
     },
     "execution_count": 131,
     "metadata": {},
     "output_type": "execute_result"
    }
   ],
   "source": [
    "publicaciones = postsRdd.filter(lambda x: x[1] not in hashtagsInvalidos)\n",
    "publicaciones.collect()"
   ]
  },
  {
   "cell_type": "code",
   "execution_count": 132,
   "metadata": {},
   "outputs": [
    {
     "data": {
      "text/plain": [
       "[]"
      ]
     },
     "execution_count": 132,
     "metadata": {},
     "output_type": "execute_result"
    }
   ],
   "source": [
    "publicaciones.map(lambda x: (x[1][0], x[1][1])).reduceByKey(lambda x,y: x+y).takeOrdered(10, lambda x: -x[1])"
   ]
  },
  {
   "cell_type": "code",
   "execution_count": 111,
   "metadata": {},
   "outputs": [],
   "source": [
    "# todo lo que sigue esta MAL\n",
    "# primero filtro los users de argentina\n",
    "#usersRdd = usersRdd.filter(lambda x: x[2] == 'argentina')\\\n",
    "#.map(lambda x: (x[0], 0))\n",
    "\n",
    "#usersRdd.collect()"
   ]
  },
  {
   "cell_type": "code",
   "execution_count": 112,
   "metadata": {},
   "outputs": [],
   "source": [
    "# mapeo para poder joinear con users\n",
    "#postsRdd = postsRdd.map(lambda x: (x[1], x[3]))\n",
    "#postsRdd.collect()"
   ]
  },
  {
   "cell_type": "code",
   "execution_count": 113,
   "metadata": {},
   "outputs": [],
   "source": [
    "# inner join porque me piden posts que sean de usuarios de Arg.\n",
    "#argPostsRdd = postsRdd.join(usersRdd)\n",
    "#argPostsRdd.collect()"
   ]
  },
  {
   "cell_type": "code",
   "execution_count": 114,
   "metadata": {},
   "outputs": [],
   "source": [
    "#argPostsRdd = argPostsRdd.filter(lambda x: '#' in x[1][0])\n",
    "#argPostsRdd.collect()"
   ]
  },
  {
   "cell_type": "code",
   "execution_count": 115,
   "metadata": {},
   "outputs": [],
   "source": [
    "# necesito quedarme con los hashtags\n",
    "#def getHashtags(x):\n",
    "#    tags = []\n",
    "#    tags += re.findall(r'[#@][^\\s#@]+', x[1][0])\n",
    "#    return (x[0], tags)\n",
    "    \n",
    "#hashtagsRdd = argPostsRdd.map(getHashtags)\n",
    "\n",
    "#hashtagsRdd.collect()"
   ]
  },
  {
   "cell_type": "code",
   "execution_count": 116,
   "metadata": {},
   "outputs": [],
   "source": [
    "# ahora mapeo con el hashtag como clave y les pongo un contador\n",
    "#hashtagsRdd.flatMap(lambda x: x[1]).map(lambda x: (x,1)).reduceByKey(lambda x,y: x+y).takeOrdered(10, lambda x: -x[1])"
   ]
  }
 ],
 "metadata": {
  "kernelspec": {
   "display_name": "Python 3",
   "language": "python",
   "name": "python3"
  },
  "language_info": {
   "codemirror_mode": {
    "name": "ipython",
    "version": 3
   },
   "file_extension": ".py",
   "mimetype": "text/x-python",
   "name": "python",
   "nbconvert_exporter": "python",
   "pygments_lexer": "ipython3",
   "version": "3.7.4"
  }
 },
 "nbformat": 4,
 "nbformat_minor": 2
}
