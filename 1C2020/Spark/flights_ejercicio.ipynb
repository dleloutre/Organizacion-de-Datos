{
  "nbformat": 4,
  "nbformat_minor": 0,
  "metadata": {
    "colab": {
      "name": "Copia de flights_ejercicio.ipynb",
      "provenance": [],
      "collapsed_sections": []
    },
    "kernelspec": {
      "name": "python3",
      "display_name": "Python 3"
    }
  },
  "cells": [
    {
      "cell_type": "markdown",
      "metadata": {
        "id": "VDf7rnTBP9H1",
        "colab_type": "text"
      },
      "source": [
        "# PySpark RDD API\n",
        "Ejercicios."
      ]
    },
    {
      "cell_type": "code",
      "metadata": {
        "id": "TJ87DyqSvmHa",
        "colab_type": "code",
        "outputId": "28c874a0-d68e-4983-9617-c44ebc3ef19e",
        "colab": {
          "base_uri": "https://localhost:8080/",
          "height": 298
        }
      },
      "source": [
        "!pip install pyspark\n",
        "!pip install -U -q PyDrive\n",
        "!apt install openjdk-8-jdk-headless -qq\n",
        "import os\n",
        "os.environ[\"JAVA_HOME\"] = \"/usr/lib/jvm/java-8-openjdk-amd64\""
      ],
      "execution_count": 1,
      "outputs": [
        {
          "output_type": "stream",
          "text": [
            "Collecting pyspark\n",
            "\u001b[?25l  Downloading https://files.pythonhosted.org/packages/9a/5a/271c416c1c2185b6cb0151b29a91fff6fcaed80173c8584ff6d20e46b465/pyspark-2.4.5.tar.gz (217.8MB)\n",
            "\u001b[K     |████████████████████████████████| 217.8MB 60kB/s \n",
            "\u001b[?25hCollecting py4j==0.10.7\n",
            "\u001b[?25l  Downloading https://files.pythonhosted.org/packages/e3/53/c737818eb9a7dc32a7cd4f1396e787bd94200c3997c72c1dbe028587bd76/py4j-0.10.7-py2.py3-none-any.whl (197kB)\n",
            "\u001b[K     |████████████████████████████████| 204kB 56.9MB/s \n",
            "\u001b[?25hBuilding wheels for collected packages: pyspark\n",
            "  Building wheel for pyspark (setup.py) ... \u001b[?25l\u001b[?25hdone\n",
            "  Created wheel for pyspark: filename=pyspark-2.4.5-py2.py3-none-any.whl size=218257927 sha256=1611fe2f0748ed3bf6e95509eed48427a1c19eee0b7d9c57c2ea58f770596ca7\n",
            "  Stored in directory: /root/.cache/pip/wheels/bf/db/04/61d66a5939364e756eb1c1be4ec5bdce6e04047fc7929a3c3c\n",
            "Successfully built pyspark\n",
            "Installing collected packages: py4j, pyspark\n",
            "Successfully installed py4j-0.10.7 pyspark-2.4.5\n",
            "openjdk-8-jdk-headless is already the newest version (8u242-b08-0ubuntu3~18.04).\n",
            "0 upgraded, 0 newly installed, 0 to remove and 25 not upgraded.\n"
          ],
          "name": "stdout"
        }
      ]
    },
    {
      "cell_type": "code",
      "metadata": {
        "id": "YbfY0beMvoxI",
        "colab_type": "code",
        "outputId": "dfa39c73-ed21-4c88-fa3a-429c1d553615",
        "colab": {
          "base_uri": "https://localhost:8080/",
          "height": 280
        }
      },
      "source": [
        "!pip install PyDrive"
      ],
      "execution_count": 2,
      "outputs": [
        {
          "output_type": "stream",
          "text": [
            "Requirement already satisfied: PyDrive in /usr/local/lib/python3.6/dist-packages (1.3.1)\n",
            "Requirement already satisfied: PyYAML>=3.0 in /usr/local/lib/python3.6/dist-packages (from PyDrive) (3.13)\n",
            "Requirement already satisfied: oauth2client>=4.0.0 in /usr/local/lib/python3.6/dist-packages (from PyDrive) (4.1.3)\n",
            "Requirement already satisfied: google-api-python-client>=1.2 in /usr/local/lib/python3.6/dist-packages (from PyDrive) (1.7.12)\n",
            "Requirement already satisfied: rsa>=3.1.4 in /usr/local/lib/python3.6/dist-packages (from oauth2client>=4.0.0->PyDrive) (4.0)\n",
            "Requirement already satisfied: pyasn1>=0.1.7 in /usr/local/lib/python3.6/dist-packages (from oauth2client>=4.0.0->PyDrive) (0.4.8)\n",
            "Requirement already satisfied: pyasn1-modules>=0.0.5 in /usr/local/lib/python3.6/dist-packages (from oauth2client>=4.0.0->PyDrive) (0.2.8)\n",
            "Requirement already satisfied: six>=1.6.1 in /usr/local/lib/python3.6/dist-packages (from oauth2client>=4.0.0->PyDrive) (1.12.0)\n",
            "Requirement already satisfied: httplib2>=0.9.1 in /usr/local/lib/python3.6/dist-packages (from oauth2client>=4.0.0->PyDrive) (0.17.3)\n",
            "Requirement already satisfied: google-auth>=1.4.1 in /usr/local/lib/python3.6/dist-packages (from google-api-python-client>=1.2->PyDrive) (1.7.2)\n",
            "Requirement already satisfied: google-auth-httplib2>=0.0.3 in /usr/local/lib/python3.6/dist-packages (from google-api-python-client>=1.2->PyDrive) (0.0.3)\n",
            "Requirement already satisfied: uritemplate<4dev,>=3.0.0 in /usr/local/lib/python3.6/dist-packages (from google-api-python-client>=1.2->PyDrive) (3.0.1)\n",
            "Requirement already satisfied: setuptools>=40.3.0 in /usr/local/lib/python3.6/dist-packages (from google-auth>=1.4.1->google-api-python-client>=1.2->PyDrive) (46.1.3)\n",
            "Requirement already satisfied: cachetools<3.2,>=2.0.0 in /usr/local/lib/python3.6/dist-packages (from google-auth>=1.4.1->google-api-python-client>=1.2->PyDrive) (3.1.1)\n"
          ],
          "name": "stdout"
        }
      ]
    },
    {
      "cell_type": "code",
      "metadata": {
        "id": "eFx8Dwhhvs3D",
        "colab_type": "code",
        "colab": {}
      },
      "source": [
        "from pydrive.auth import GoogleAuth\n",
        "from pydrive.drive import GoogleDrive\n",
        "from google.colab import auth\n",
        "from oauth2client.client import GoogleCredentials"
      ],
      "execution_count": 0,
      "outputs": []
    },
    {
      "cell_type": "code",
      "metadata": {
        "id": "JfaOgi93vvme",
        "colab_type": "code",
        "colab": {}
      },
      "source": [
        "auth.authenticate_user()\n",
        "gauth = GoogleAuth()\n",
        "gauth.credentials = GoogleCredentials.get_application_default()\n",
        "drive = GoogleDrive(gauth)"
      ],
      "execution_count": 0,
      "outputs": []
    },
    {
      "cell_type": "code",
      "metadata": {
        "id": "9E06vB-SvyFv",
        "colab_type": "code",
        "colab": {}
      },
      "source": [
        "#idf = '1PN6TbhTwwl-hVII3P89IMbs1ashJ7BYz'\n",
        "idf = '1QQ7k1Y5RvL0ZcnQuTVg0rHU6O5AK81zQ'\n",
        "downloaded = drive.CreateFile({'id':idf})   # replace the id with id of file you want to access\n",
        "downloaded.GetContentFile('flights.parquet') \n",
        "# Fuente del dataset: https://www.kaggle.com/divyansh22/flight-delay-prediction"
      ],
      "execution_count": 0,
      "outputs": []
    },
    {
      "cell_type": "code",
      "metadata": {
        "id": "QgsuFPKpv4mW",
        "colab_type": "code",
        "colab": {}
      },
      "source": [
        "from pyspark.sql import *\n",
        "from pyspark.sql.functions import *\n",
        "from pyspark import SparkContext\n",
        "import pandas as pd\n",
        "from pyspark.sql import SQLContext, SparkSession\n",
        "\n",
        "# create the Spark Session\n",
        "spark = SparkSession.builder.getOrCreate()\n",
        "\n",
        "# create the Spark Context\n",
        "sc = spark.sparkContext"
      ],
      "execution_count": 0,
      "outputs": []
    },
    {
      "cell_type": "code",
      "metadata": {
        "id": "W7Zkre-dwEOS",
        "colab_type": "code",
        "colab": {}
      },
      "source": [
        "sqlContext = SQLContext(sc)\n",
        "rdd = sqlContext.read.parquet('flights.parquet').rdd.repartition(8).cache()"
      ],
      "execution_count": 0,
      "outputs": []
    },
    {
      "cell_type": "code",
      "metadata": {
        "id": "EqMLZNVb24Vf",
        "colab_type": "code",
        "outputId": "9c70dbbd-643c-4225-9ca2-71379d1a962c",
        "colab": {
          "base_uri": "https://localhost:8080/",
          "height": 34
        }
      },
      "source": [
        "rdd.count()"
      ],
      "execution_count": 8,
      "outputs": [
        {
          "output_type": "execute_result",
          "data": {
            "text/plain": [
              "598963"
            ]
          },
          "metadata": {
            "tags": []
          },
          "execution_count": 8
        }
      ]
    },
    {
      "cell_type": "code",
      "metadata": {
        "id": "tb4qf9RTxSnN",
        "colab_type": "code",
        "outputId": "fc3b47a8-722d-4e2a-fc74-dddf431275f8",
        "colab": {
          "base_uri": "https://localhost:8080/",
          "height": 54
        }
      },
      "source": [
        "rdd.take(1)"
      ],
      "execution_count": 9,
      "outputs": [
        {
          "output_type": "execute_result",
          "data": {
            "text/plain": [
              "[Row(DAY_OF_MONTH=3, DAY_OF_WEEK=5, OP_UNIQUE_CARRIER='MQ', OP_CARRIER_AIRLINE_ID=20398, OP_CARRIER='MQ', TAIL_NUM='N928AE', OP_CARRIER_FL_NUM=3346, ORIGIN_AIRPORT_ID=13930, ORIGIN_AIRPORT_SEQ_ID=1393007, ORIGIN='ORD', DEST_AIRPORT_ID=11977, DEST_AIRPORT_SEQ_ID=1197705, DEST='GRB', DEP_TIME=1313.0, DEP_DEL15=0.0, DEP_TIME_BLK='1300-1359', ARR_TIME=1400.0, ARR_DEL15=0.0, CANCELLED=0.0, DIVERTED=0.0, DISTANCE=174.0, TIMEDIFF=0)]"
            ]
          },
          "metadata": {
            "tags": []
          },
          "execution_count": 9
        }
      ]
    },
    {
      "cell_type": "code",
      "metadata": {
        "id": "ctPLDZ1--Q4k",
        "colab_type": "code",
        "colab": {}
      },
      "source": [
        "# DISTANCE, DEP_TIME, ARR_TIME, DAY_OF_WEEK, ORIGIN, DEST, TAIL_NUM, DAY_OF_MONTH, DAY_OF_WEEK\n",
        "# Ejemplo rdd.map(lambda x: (x.ORIGIN, x.DEST))"
      ],
      "execution_count": 0,
      "outputs": []
    },
    {
      "cell_type": "markdown",
      "metadata": {
        "id": "nXvVZrvGwMNf",
        "colab_type": "text"
      },
      "source": [
        "**Ejercicio 1:** Calcular la cantidad de vuelo por línea aérea (usar OP_UNIQUE_CARRIER). Calcular las diez (10) líneas aéreas con mayor cantidad de vuelos. Devolver una lista de Python con los códigos de estas 10 líneas."
      ]
    },
    {
      "cell_type": "code",
      "metadata": {
        "id": "qMp9jjZ-a62N",
        "colab_type": "code",
        "colab": {
          "base_uri": "https://localhost:8080/",
          "height": 34
        },
        "outputId": "f07863d2-52be-4b12-d08c-1976cee97b8c"
      },
      "source": [
        "vuelos_por_linea_rdd = rdd.map(lambda x: (x[2],1)).reduceByKey(lambda x,y: x+y)\n",
        "listaDesc = vuelos_por_linea_rdd.takeOrdered(10,lambda x: -x[1])\n",
        "listaCodigos = []\n",
        "for x in listaDesc:\n",
        "  listaCodigos.append(x[0])\n",
        "\n",
        "listaCodigos"
      ],
      "execution_count": 58,
      "outputs": [
        {
          "output_type": "execute_result",
          "data": {
            "text/plain": [
              "['WN', 'DL', 'AA', 'OO', 'UA', 'YX', 'MQ', 'B6', 'OH', '9E']"
            ]
          },
          "metadata": {
            "tags": []
          },
          "execution_count": 58
        }
      ]
    },
    {
      "cell_type": "markdown",
      "metadata": {
        "id": "YwUdqHwOCI9m",
        "colab_type": "text"
      },
      "source": [
        ""
      ]
    },
    {
      "cell_type": "markdown",
      "metadata": {
        "id": "vwABFH9cwm8k",
        "colab_type": "text"
      },
      "source": [
        "**Ejercicio 2:** Calcular el promedio de vuelos que llegaron con 15 minutos de demora o mas (ARR_DEL15 ==1) para las 10 líneas con mas vuelos (usar el ejercicio anterior), de estas indicar las tres mejores y las tres peores."
      ]
    },
    {
      "cell_type": "code",
      "metadata": {
        "id": "NuEGUpZKdzgG",
        "colab_type": "code",
        "colab": {
          "base_uri": "https://localhost:8080/",
          "height": 34
        },
        "outputId": "76418039-d664-4efb-d641-fce855fb6628"
      },
      "source": [
        "lineas_demora = rdd.map(lambda x: (x[2],(x[18],1))).filter(lambda x: (listaCodigos.count(x[0]) >= 1) & (x[1][0]==1)).reduceByKey(lambda x,y: (x[0], x[1]+y[1]))\n",
        "vuelos_lineas_demora = lineas_demora.join(vuelos_por_linea_rdd)\n",
        "promedio_vuelos_demorados_x_linea = vuelos_lineas_demora.mapValues(lambda x: (x[0][1]/x[1]))\n",
        "top3_lineas_demoradas = promedio_vuelos_demorados_x_linea.takeOrdered(3,lambda x:-x[1]) \n",
        "bottom3_lineas_demoradas = promedio_vuelos_demorados_x_linea.takeOrdered(3,lambda x:x[1])\n",
        "top3_lineas_demoradas\n",
        "bottom3_lineas_demoradas"
      ],
      "execution_count": 71,
      "outputs": [
        {
          "output_type": "execute_result",
          "data": {
            "text/plain": [
              "[('MQ', 1.0), ('OO', 1.0), ('WN', 1.0)]"
            ]
          },
          "metadata": {
            "tags": []
          },
          "execution_count": 71
        }
      ]
    },
    {
      "cell_type": "markdown",
      "metadata": {
        "id": "9FVk5EaqyeNu",
        "colab_type": "text"
      },
      "source": [
        "**Ejercicio 3:** Calcular la cantidad de vuelos por ruta. Usando ORIGIN y DEST para la ruta. Devolver un rdd con la siguiente estructura: (RUTA, #Vuelos). Indicar además cuáles son las 10 rutas mas frecuentes y su cantidad de vuelos."
      ]
    },
    {
      "cell_type": "code",
      "metadata": {
        "id": "ZlAdZAk0pRLB",
        "colab_type": "code",
        "colab": {
          "base_uri": "https://localhost:8080/",
          "height": 191
        },
        "outputId": "45184394-1542-4b86-9faf-9ea46bf926eb"
      },
      "source": [
        "rdd_vuelos_x_ruta = rdd.map(lambda x: ((x[9],x[12]),1)).reduceByKey(lambda x,y: x+y)\n",
        "rutas_mas_frecuentes = rdd_vuelos_x_ruta.takeOrdered(10, lambda x:-x[1])\n",
        "rutas_mas_frecuentes"
      ],
      "execution_count": 22,
      "outputs": [
        {
          "output_type": "execute_result",
          "data": {
            "text/plain": [
              "[(('LAX', 'SFO'), 1191),\n",
              " (('SFO', 'LAX'), 1189),\n",
              " (('LAS', 'LAX'), 1050),\n",
              " (('LAX', 'LAS'), 1033),\n",
              " (('JFK', 'LAX'), 1023),\n",
              " (('ORD', 'LGA'), 1022),\n",
              " (('LAX', 'JFK'), 1020),\n",
              " (('LGA', 'ORD'), 1015),\n",
              " (('HNL', 'OGG'), 941),\n",
              " (('OGG', 'HNL'), 939)]"
            ]
          },
          "metadata": {
            "tags": []
          },
          "execution_count": 22
        }
      ]
    },
    {
      "cell_type": "code",
      "metadata": {
        "id": "Ynm9ftiDvxmI",
        "colab_type": "code",
        "colab": {}
      },
      "source": [
        ""
      ],
      "execution_count": 0,
      "outputs": []
    },
    {
      "cell_type": "markdown",
      "metadata": {
        "id": "hey4Zw0rzPCP",
        "colab_type": "text"
      },
      "source": [
        "**Ejercicio 4:** Consideremos ahora la cantidad de líneas aéreas que transitan cada ruta, queremos saber cuáles son las diez rutas realizadas por mayor cantidad de líneas aéreas y cuáles son las diez líneas aéreas con mayor cantidad de rutas.\n",
        "Devolver: Una lista de 10 tuplas de forma (ROUTE, #CARRIERS) y Una lista de 10 tuplas de tipo (Carrier, #ROUTES)"
      ]
    },
    {
      "cell_type": "code",
      "metadata": {
        "id": "cXhqCd7WqTQB",
        "colab_type": "code",
        "colab": {
          "base_uri": "https://localhost:8080/",
          "height": 191
        },
        "outputId": "0e7aed3e-351f-49c3-f8cd-039c4adc981f"
      },
      "source": [
        "rutas_carriers_rdd = rdd.map(lambda x: ((x[9],x[12],x[2]),1)).reduceByKey(lambda x,y: x+y)\n",
        "route_carriers = rutas_carriers_rdd.map(lambda x: ((x[0][0],x[0][1]),x[1])).reduceByKey(lambda x,y: x+y).takeOrdered(10, lambda x:-x[1])\n",
        "route_carriers"
      ],
      "execution_count": 27,
      "outputs": [
        {
          "output_type": "execute_result",
          "data": {
            "text/plain": [
              "[(('LAX', 'SFO'), 1191),\n",
              " (('SFO', 'LAX'), 1189),\n",
              " (('LAS', 'LAX'), 1050),\n",
              " (('LAX', 'LAS'), 1033),\n",
              " (('JFK', 'LAX'), 1023),\n",
              " (('ORD', 'LGA'), 1022),\n",
              " (('LAX', 'JFK'), 1020),\n",
              " (('LGA', 'ORD'), 1015),\n",
              " (('HNL', 'OGG'), 941),\n",
              " (('OGG', 'HNL'), 939)]"
            ]
          },
          "metadata": {
            "tags": []
          },
          "execution_count": 27
        }
      ]
    },
    {
      "cell_type": "code",
      "metadata": {
        "id": "UMaLW9aSzkMw",
        "colab_type": "code",
        "colab": {
          "base_uri": "https://localhost:8080/",
          "height": 191
        },
        "outputId": "94183d75-94ce-441b-bbc4-fb305d477f56"
      },
      "source": [
        "carrier_routes = rutas_carriers_rdd.map(lambda x: (x[0][2],x[1])).reduceByKey(lambda x,y: x+y).takeOrdered(10, lambda x:-x[1])\n",
        "carrier_routes"
      ],
      "execution_count": 28,
      "outputs": [
        {
          "output_type": "execute_result",
          "data": {
            "text/plain": [
              "[('WN', 107708),\n",
              " ('DL', 79928),\n",
              " ('AA', 75472),\n",
              " ('OO', 69196),\n",
              " ('UA', 48019),\n",
              " ('YX', 28826),\n",
              " ('MQ', 25284),\n",
              " ('B6', 24621),\n",
              " ('OH', 23999),\n",
              " ('9E', 22955)]"
            ]
          },
          "metadata": {
            "tags": []
          },
          "execution_count": 28
        }
      ]
    },
    {
      "cell_type": "markdown",
      "metadata": {
        "id": "NSXlYTZmzdRx",
        "colab_type": "text"
      },
      "source": [
        "**Ejercicio 5:** Por cada ruta aérea calcular el promedio de tiempo de vuelo. Calculando ARR_TIME - DEP_TIME usando la función provista. Al calculo del tiempo de vuelo en minutos hay que sumarle TIMEDIFF que es la diferencia horaria entre las ciudades (en horas). Por lo tanto el calculo es:\n",
        "\n",
        "```\n",
        "hhmmtimediff(x.DEP_TIME,x.ARR_TIME) + (x.TIMEDIFF * 60)\n",
        "```\n",
        "\n",
        "Puntos extras: Además del promedio de tiempo de vuelo calcular la desviación standard del tiempo de vuelo para cada ruta.\n",
        "Devolver: \n",
        "- Una lista de 10 tuplas de tipo (ROUTE, average_time)\n",
        "- Una lista de 10 tuplas de tipo (ROUTE, time_std) (solo para las rutas con mas de 50 vuelos)"
      ]
    },
    {
      "cell_type": "code",
      "metadata": {
        "id": "nmsYsUqZJSer",
        "colab_type": "code",
        "colab": {}
      },
      "source": [
        "from numpy import sqrt\n",
        "# Computes time diff in format HHMM (in minutes)\n",
        "def hhmmtimediff(t1, t2):\n",
        "  m2 = (t2 // 100) * 60 + (t2 % 100)\n",
        "  m1 = (t1 // 100) * 60 + (t1 % 100)\n",
        "  return m2 - m1 "
      ],
      "execution_count": 0,
      "outputs": []
    },
    {
      "cell_type": "code",
      "metadata": {
        "id": "Tp_rd9uoztea",
        "colab_type": "code",
        "colab": {
          "base_uri": "https://localhost:8080/",
          "height": 191
        },
        "outputId": "43f8c754-ad86-4c40-fb78-3a8fc4a7d306"
      },
      "source": [
        "tiempo_vuelo_x_ruta_rdd = rdd.map(lambda x: ((x[9],x[12]), (hhmmtimediff(x[13],x[16])+x[21],1))).reduceByKey(lambda x,y: (x[0]+y[0],x[1]+y[1]))\n",
        "promedio_tiempo_vuelo_x_ruta_rdd = tiempo_vuelo_x_ruta_rdd.mapValues(lambda x: x[0]/x[1])\n",
        "promedio_tiempo_vuelo_x_ruta_rdd.take(10)"
      ],
      "execution_count": 47,
      "outputs": [
        {
          "output_type": "execute_result",
          "data": {
            "text/plain": [
              "[(('ORD', 'GRB'), 52.10526315789474),\n",
              " (('DAL', 'ABQ'), 45.492753623188406),\n",
              " (('OAK', 'ABQ'), 97.3030303030303),\n",
              " (('SAN', 'ABQ'), 130.2280701754386),\n",
              " (('PIT', 'DCA'), 67.41605839416059),\n",
              " (('GSP', 'DCA'), 82.52702702702703),\n",
              " (('MSP', 'DCA'), 167.59322033898306),\n",
              " (('LAS', 'DCA'), 438.258064516129),\n",
              " (('SFO', 'DCA'), 476.2258064516129),\n",
              " (('CLT', 'ROC'), 105.05263157894737)]"
            ]
          },
          "metadata": {
            "tags": []
          },
          "execution_count": 47
        }
      ]
    },
    {
      "cell_type": "code",
      "metadata": {
        "id": "bJJpS2nu_ZD8",
        "colab_type": "code",
        "colab": {
          "base_uri": "https://localhost:8080/",
          "height": 191
        },
        "outputId": "717ea38f-eb1e-459a-9852-4ca34930094a"
      },
      "source": [
        "variacion_vuelo_x_ruta = rdd.map(lambda x: ((x[9],x[12]), (hhmmtimediff(x[13],x[16])+x[21],1))).join(promedio_tiempo_vuelo_x_ruta_rdd).mapValues(lambda x: ((x[0][0]-x[1])**2, x[0][1])).reduceByKey(lambda x,y: (x[0]+y[0],x[1]+y[1])).mapValues(lambda x: x[0]/(x[1]-1))\n",
        "variacion_vuelo_x_ruta.take(10)"
      ],
      "execution_count": 57,
      "outputs": [
        {
          "output_type": "execute_result",
          "data": {
            "text/plain": [
              "[(('DAL', 'ABQ'), 65.44885221622765),\n",
              " (('GSP', 'DCA'), 91.2115883006294),\n",
              " (('CLT', 'ROC'), 126.1142217245241),\n",
              " (('ATL', 'ROC'), 22602.48178259562),\n",
              " (('JFK', 'IND'), 259.77866698518864),\n",
              " (('LGA', 'STL'), 13317.946182439226),\n",
              " (('CVG', 'STL'), 51.357894736842105),\n",
              " (('SMF', 'STL'), 71.38461538461539),\n",
              " (('PHX', 'ELP'), 85207.63292321708),\n",
              " (('MCO', 'MEM'), 71.7512077294686)]"
            ]
          },
          "metadata": {
            "tags": []
          },
          "execution_count": 57
        }
      ]
    },
    {
      "cell_type": "markdown",
      "metadata": {
        "id": "FVNU3LbB0P_i",
        "colab_type": "text"
      },
      "source": [
        "**Ejercicio 6:** Para cada linea aerea contar cuantos vuelos tuvieron cuya duracion se excedio en 15 minutos o mas la duracion promedio de la ruta (para todas las lineas). Indicar las 10 mejores lineas aereas y las 10 peores de acuerdo a esta metrica."
      ]
    },
    {
      "cell_type": "code",
      "metadata": {
        "id": "BSZk4Pg6FK1f",
        "colab_type": "code",
        "colab": {
          "base_uri": "https://localhost:8080/",
          "height": 312
        },
        "outputId": "4b7e99d9-8477-4f34-9298-876b48e9ec87"
      },
      "source": [
        "#necesito joinear:\n",
        "#((linea, rutas), duracionVuelo)\n",
        "#(rutas, tiempo promedio)\n",
        "\n",
        "#pruebo que el 1ro sea (rutas, (linea,duracionVuelo))\n",
        "rdd1 = rdd.map(lambda x: ((x[9],x[12]),(x[2],hhmmtimediff(x[13],x[16])+x[21])))\n",
        "joineados = rdd1.join(promedio_tiempo_vuelo_x_ruta_rdd).map(lambda x: (x[1][0][0], (x[1][0][1]-x[1][1],1))).filter(lambda x: x[1][0]>15).reduceByKey(lambda x,y: (x[0],x[1]+y[1]))\n",
        "peores = joineados.takeOrdered(10, lambda x: -x[1][1])\n",
        "mejores = joineados.takeOrdered(10, lambda x: x[1][1])\n",
        "\n",
        "#print(\"Mejores lineas aereas\")\n",
        "#for x in mejores:\n",
        "#  print(x[0])\n",
        "\n",
        "#print(\"Peores lineas aereas\")\n",
        "#for x in peores:\n",
        "#  print(x[0])"
      ],
      "execution_count": 88,
      "outputs": [
        {
          "output_type": "execute_result",
          "data": {
            "text/plain": [
              "[('YV', (64.37619047619047, 6125)),\n",
              " ('OO', (20.34210526315789, 20515)),\n",
              " ('DL', (17.36585365853658, 39501)),\n",
              " ('9E', (70.68478260869566, 5895)),\n",
              " ('B6', (69.63709677419355, 12325)),\n",
              " ('F9', (45.75630252100841, 6555)),\n",
              " ('MQ', (27.684782608695656, 7798)),\n",
              " ('AS', (58.34482758620692, 12151)),\n",
              " ('G4', (24.55789473684211, 1483)),\n",
              " ('HA', (62.853658536585385, 971)),\n",
              " ('WN', (54.507246376811594, 37078)),\n",
              " ('AA', (67.37619047619047, 39574)),\n",
              " ('YX', (15.684782608695656, 11030)),\n",
              " ('OH', (17.47297297297297, 9166)),\n",
              " ('UA', (17.654008438818565, 25253)),\n",
              " ('EV', (49.34210526315789, 3784)),\n",
              " ('NK', (44.75630252100841, 9594))]"
            ]
          },
          "metadata": {
            "tags": []
          },
          "execution_count": 88
        }
      ]
    }
  ]
}